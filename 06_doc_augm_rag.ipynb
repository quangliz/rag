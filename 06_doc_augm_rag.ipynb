{
  "cells": [
    {
      "cell_type": "markdown",
      "metadata": {
        "id": "pIeSjuKacTQ4"
      },
      "source": [
        "### Note!!!\n",
        "\n",
        "This notebook requires atleast 50GB RAM and 16GB VRAM to run, ensure to have colab pro"
      ]
    },
    {
      "cell_type": "code",
      "execution_count": 1,
      "metadata": {
        "colab": {
          "base_uri": "https://localhost:8080/"
        },
        "id": "3BKPDa8lM_qa",
        "outputId": "3bacb7a7-08b0-470d-9c5f-207e9ca0fa17"
      },
      "outputs": [
        {
          "name": "stdout",
          "output_type": "stream",
          "text": [
            "\u001b[2K   \u001b[90m━━━━━━━━━━━━━━━━━━━━━━━━━━━━━━━━━━━━━━━━\u001b[0m \u001b[32m24.1/24.1 MB\u001b[0m \u001b[31m104.5 MB/s\u001b[0m eta \u001b[36m0:00:00\u001b[0m\n",
            "\u001b[2K   \u001b[90m━━━━━━━━━━━━━━━━━━━━━━━━━━━━━━━━━━━━━━━━\u001b[0m \u001b[32m72.9/72.9 MB\u001b[0m \u001b[31m34.4 MB/s\u001b[0m eta \u001b[36m0:00:00\u001b[0m\n",
            "\u001b[2K   \u001b[90m━━━━━━━━━━━━━━━━━━━━━━━━━━━━━━━━━━━━━━━━\u001b[0m \u001b[32m363.4/363.4 MB\u001b[0m \u001b[31m2.7 MB/s\u001b[0m eta \u001b[36m0:00:00\u001b[0m\n",
            "\u001b[2K   \u001b[90m━━━━━━━━━━━━━━━━━━━━━━━━━━━━━━━━━━━━━━━━\u001b[0m \u001b[32m13.8/13.8 MB\u001b[0m \u001b[31m124.4 MB/s\u001b[0m eta \u001b[36m0:00:00\u001b[0m\n",
            "\u001b[2K   \u001b[90m━━━━━━━━━━━━━━━━━━━━━━━━━━━━━━━━━━━━━━━━\u001b[0m \u001b[32m24.6/24.6 MB\u001b[0m \u001b[31m102.5 MB/s\u001b[0m eta \u001b[36m0:00:00\u001b[0m\n",
            "\u001b[2K   \u001b[90m━━━━━━━━━━━━━━━━━━━━━━━━━━━━━━━━━━━━━━━━\u001b[0m \u001b[32m883.7/883.7 kB\u001b[0m \u001b[31m57.3 MB/s\u001b[0m eta \u001b[36m0:00:00\u001b[0m\n",
            "\u001b[2K   \u001b[90m━━━━━━━━━━━━━━━━━━━━━━━━━━━━━━━━━━━━━━━━\u001b[0m \u001b[32m664.8/664.8 MB\u001b[0m \u001b[31m1.7 MB/s\u001b[0m eta \u001b[36m0:00:00\u001b[0m\n",
            "\u001b[2K   \u001b[90m━━━━━━━━━━━━━━━━━━━━━━━━━━━━━━━━━━━━━━━━\u001b[0m \u001b[32m211.5/211.5 MB\u001b[0m \u001b[31m11.6 MB/s\u001b[0m eta \u001b[36m0:00:00\u001b[0m\n",
            "\u001b[2K   \u001b[90m━━━━━━━━━━━━━━━━━━━━━━━━━━━━━━━━━━━━━━━━\u001b[0m \u001b[32m56.3/56.3 MB\u001b[0m \u001b[31m44.3 MB/s\u001b[0m eta \u001b[36m0:00:00\u001b[0m\n",
            "\u001b[2K   \u001b[90m━━━━━━━━━━━━━━━━━━━━━━━━━━━━━━━━━━━━━━━━\u001b[0m \u001b[32m127.9/127.9 MB\u001b[0m \u001b[31m20.5 MB/s\u001b[0m eta \u001b[36m0:00:00\u001b[0m\n",
            "\u001b[2K   \u001b[90m━━━━━━━━━━━━━━━━━━━━━━━━━━━━━━━━━━━━━━━━\u001b[0m \u001b[32m207.5/207.5 MB\u001b[0m \u001b[31m3.7 MB/s\u001b[0m eta \u001b[36m0:00:00\u001b[0m\n",
            "\u001b[2K   \u001b[90m━━━━━━━━━━━━━━━━━━━━━━━━━━━━━━━━━━━━━━━━\u001b[0m \u001b[32m21.1/21.1 MB\u001b[0m \u001b[31m109.0 MB/s\u001b[0m eta \u001b[36m0:00:00\u001b[0m\n",
            "\u001b[?25h"
          ]
        }
      ],
      "source": [
        "!pip install -q PymuPDF\n",
        "!pip install -q python-dotenv\n",
        "!pip install -q bitsandbytes"
      ]
    },
    {
      "cell_type": "code",
      "execution_count": null,
      "metadata": {
        "id": "SaymZ9beM38K"
      },
      "outputs": [],
      "source": [
        "import os\n",
        "import fitz\n",
        "import numpy as np\n",
        "import json\n",
        "import re\n",
        "\n",
        "from openai import OpenAI\n",
        "from tqdm import tqdm\n",
        "\n",
        "import torch\n",
        "import torch.nn.functional as F\n",
        "from transformers import AutoTokenizer, AutoModel, pipeline, AutoModelForCausalLM\n",
        "from sklearn.metrics.pairwise import cosine_similarity"
      ]
    },
    {
      "cell_type": "code",
      "execution_count": null,
      "metadata": {
        "colab": {
          "base_uri": "https://localhost:8080/"
        },
        "id": "pwaa_fnINceS",
        "outputId": "7c31b560-0fd8-417d-bd3d-7be524d753e0"
      },
      "outputs": [
        {
          "data": {
            "text/plain": [
              "['Understanding Artificial Intelligence \\nChapter 1: Introduction to Artificial Intelligence \\nArtificial intelligence (AI) refers to the ability of a digital computer or computer-controlled robot \\nto perform tasks commonly associated with intelligent beings. The term is frequently applied to \\nthe project of developing systems endowed with the intellectual processes characteristic of \\nhumans, such as the ability to reason, discover meaning, generalize, or learn from past \\nexperience. Over the past few decades, advancements in computing power and data availability \\nhave significantly accelerated the development and deployment of AI. \\nHistorical Context \\nThe idea of artificial intelligence has existed for centuries, often depicted in myths and fiction. \\nHowever, the formal field of AI research began in the mid-20th century. The Dartmouth Workshop \\nin 1956 is widely considered the birthplace of AI. Early AI research focused on problem-solving \\nand symbolic methods. The 1980s saw a rise in exp',\n",
              " 'egan in the mid-20th century. The Dartmouth Workshop \\nin 1956 is widely considered the birthplace of AI. Early AI research focused on problem-solving \\nand symbolic methods. The 1980s saw a rise in expert systems, while the 1990s and 2000s \\nbrought advancements in machine learning and neural networks. Recent breakthroughs in deep \\nlearning have revolutionized the field. \\nModern Observations \\nModern AI systems are increasingly prevalent in everyday life. From virtual assistants like Siri and \\nAlexa to recommendation algorithms on streaming services and social media, AI is impacting \\nhow we live, work, and interact. The development of self-driving cars, advanced medical \\ndiagnostics, and sophisticated financial modeling tools demonstrates the broad and growing \\napplications of AI. Concerns about ethical implications, bias, and job displacement are also \\nincreasingly prominent. \\nChapter 2: Core Concepts of Artificial Intelligence \\nMachine Learning \\nMachine learning (ML) is a subset of AI t',\n",
              " 'out ethical implications, bias, and job displacement are also \\nincreasingly prominent. \\nChapter 2: Core Concepts of Artificial Intelligence \\nMachine Learning \\nMachine learning (ML) is a subset of AI that focuses on enabling systems to learn from data \\nwithout being explicitly programmed. ML algorithms identify patterns, make predictions, and \\nimprove their performance over time as they are exposed to more data. \\nSupervised Learning \\nIn supervised learning, algorithms are trained on labeled data, where the input data is paired with \\nthe correct output. This allows the algorithm to learn the relationship between inputs and outputs \\nand make predictions on new, unseen data. Examples include image classification and spam \\ndetection. \\nUnsupervised Learning \\nUnsupervised learning algorithms are trained on unlabeled data, where the algorithm must \\ndiscover patterns and structures in the data without explicit guidance. Common techniques \\ninclude clustering (grouping similar data points) and di',\n",
              " 'trained on unlabeled data, where the algorithm must \\ndiscover patterns and structures in the data without explicit guidance. Common techniques \\ninclude clustering (grouping similar data points) and dimensionality reduction (reducing the \\nnumber of variables while preserving important information). \\n \\nReinforcement Learning \\nReinforcement learning involves training an agent to make decisions in an environment to \\nmaximize a reward. The agent learns through trial and error, receiving feedback in the form of \\nrewards or penalties. This approach is used in game playing, robotics, and resource \\nmanagement. \\nDeep Learning \\nDeep learning is a subfield of machine learning that uses artificial neural networks with multiple \\nlayers (deep neural networks) to analyze data. These networks are inspired by the structure and \\nfunction of the human brain. Deep learning has achieved significant breakthroughs in areas such \\nas image recognition, natural language processing, and speech recognition. \\nConvo',\n",
              " 'by the structure and \\nfunction of the human brain. Deep learning has achieved significant breakthroughs in areas such \\nas image recognition, natural language processing, and speech recognition. \\nConvolutional Neural Networks (CNNs) \\nCNNs are a type of deep neural network particularly effective for processing images and videos. \\nThey use convolutional layers to automatically learn features from the input data. CNNs are \\nwidely used in object detection, facial recognition, and medical image analysis. \\nRecurrent Neural Networks (RNNs) \\nRNNs are designed to process sequential data, such as text and time series. They have feedback \\nconnections that allow information to persist over time, making them suitable for tasks like \\nlanguage translation, speech recognition, and sentiment analysis. \\nNatural Language Processing (NLP) \\nNatural Language Processing (NLP) is a branch of AI that focuses on enabling computers to \\nunderstand, interpret, and generate human language. NLP techniques are used in']"
            ]
          },
          "execution_count": 4,
          "metadata": {},
          "output_type": "execute_result"
        }
      ],
      "source": [
        "def gen_text_chunk(pdf_path, n, overlap):\n",
        "  pdf = fitz.open(pdf_path)\n",
        "  text = \"\"\n",
        "  for page in pdf:\n",
        "    text += page.get_text(\"text\")\n",
        "\n",
        "  chunk = [text[i: i+n] for i in range(0, len(text), n-overlap)]\n",
        "  return chunk\n",
        "\n",
        "text_chunks = gen_text_chunk(\"data/AI_Information.pdf\", n=1000, overlap=200)\n",
        "text_chunks[:5]"
      ]
    },
    {
      "cell_type": "code",
      "execution_count": null,
      "metadata": {
        "colab": {
          "base_uri": "https://localhost:8080/",
          "height": 49,
          "referenced_widgets": [
            "d4d393e5bd54493880a07699dde98778",
            "7b1f0228274044b8a03ac62e42b4f43a",
            "66b702faedb24a14ac79add439462346",
            "a48d33be9ead433282226f0adaeeb54e",
            "8d6e8c8e828b43c88ff832def6bc44ca",
            "116202e0d50d45c2b9b51c38966016b0",
            "179d26fb33334926a804c9caf1f068fe",
            "a0e9cc45b6d442b4b6b96c528269baa4",
            "58611d1ebaa84d14bb82bfd8c22c6d77",
            "dc42bf38e399487da9b8d1a4de9621b8",
            "07efebc3b2ee46759f24b89c46d0b0ca"
          ]
        },
        "id": "VSy8Y3F0OigS",
        "outputId": "43e2db20-a26d-463e-8d77-62a61c232a62"
      },
      "outputs": [],
      "source": [
        "device = \"cuda\" if torch.cuda.is_available() else \"cpu\"\n",
        "gen_tokenizer = AutoTokenizer.from_pretrained(\"unsloth/Meta-Llama-3.1-8B-Instruct\")\n",
        "gen_model = AutoModelForCausalLM.from_pretrained(\"unsloth/Meta-Llama-3.1-8B-Instruct\",\n",
        "    torch_dtype=\"auto\",\n",
        "    device_map=\"auto\")\n",
        "\n",
        "\n",
        "embed_model = AutoModel.from_pretrained(\"BAAI/bge-base-en\").to(device)\n",
        "embed_tokenizer = AutoTokenizer.from_pretrained(\"BAAI/bge-base-en\")"
      ]
    },
    {
      "cell_type": "code",
      "execution_count": 25,
      "metadata": {
        "id": "tw9o0CmXY3Xh"
      },
      "outputs": [],
      "source": [
        "def generate_questions(chunk, num_questions=5, model=\"unsloth/Meta-Llama-3.1-8B-Instruct\"):\n",
        "    \"\"\"\n",
        "    Generates relevant questions that can be answered from the given text chunk.\n",
        "\n",
        "    Args:\n",
        "    text_chunk (str): The text chunk to generate questions from.\n",
        "    num_questions (int): Number of questions to generate.\n",
        "    model (str): The model to use for question generation.\n",
        "\n",
        "    Returns:\n",
        "    List[str]: List of generated questions.\n",
        "    \"\"\"\n",
        "    # Define the system prompt to guide the AI's behavior\n",
        "    system_prompt = \"You are an expert at generating relevant questions from text. Create concise questions that can be answered using only the provided text. Focus on key information and concepts.\"\n",
        "\n",
        "    # Define the user prompt with the text chunk and the number of questions to generate\n",
        "    user_prompt = f\"\"\"\n",
        "    Based on the following text, generate {num_questions} different questions that can be answered using only this text:\n",
        "\n",
        "    {chunk}\n",
        "\n",
        "    Format your response as a numbered list of questions ONLY, with no additional text.\n",
        "    \"\"\"\n",
        "\n",
        "    # Generate a response from the AI model based on the system prompt and text chunk\n",
        "    text = gen_tokenizer.apply_chat_template(\n",
        "        conversation=[\n",
        "            {\"role\": \"system\", \"content\": system_prompt},\n",
        "            {\"role\": \"user\", \"content\": user_prompt}\n",
        "        ],\n",
        "        tokenize=False,\n",
        "        add_generation_prompt=True\n",
        "    )\n",
        "\n",
        "    model_inputs = gen_tokenizer([text], return_tensors=\"pt\").to(device)\n",
        "\n",
        "    generated_ids = gen_model.generate(\n",
        "        **model_inputs,\n",
        "        # max_new_tokens=50,\n",
        "        # temperature=0,\n",
        "        do_sample=True\n",
        "    )\n",
        "\n",
        "    generated_ids = [\n",
        "        output_ids[len(input_ids):] for input_ids, output_ids in zip(model_inputs.input_ids, generated_ids)\n",
        "    ]\n",
        "\n",
        "    response = gen_tokenizer.batch_decode(generated_ids, skip_special_tokens=True)[0]\n",
        "\n",
        "    print(\"===========================================\")\n",
        "    print(f\"questions: \\n{response}\")\n",
        "    print(\"===========================================\")\n",
        "    questions = []\n",
        "\n",
        "    # Extract questions using regex pattern matching\n",
        "    for line in response.split('\\n'):\n",
        "        # Remove numbering and clean up whitespace\n",
        "        cleaned_line = re.sub(r'^\\d+\\.\\s*', '', line.strip())\n",
        "        if cleaned_line and cleaned_line.endswith('?'):\n",
        "            questions.append(cleaned_line)\n",
        "\n",
        "    return questions\n"
      ]
    },
    {
      "cell_type": "code",
      "execution_count": 27,
      "metadata": {
        "colab": {
          "base_uri": "https://localhost:8080/"
        },
        "id": "dcnqEV1Bat6c",
        "outputId": "105aed21-b09e-4623-d3b5-d0942eadfce1"
      },
      "outputs": [
        {
          "name": "stdout",
          "output_type": "stream",
          "text": [
            "===========================================\n",
            "questions: \n",
            "1. What is the primary focus of machine learning in artificial intelligence?\n",
            "2. What type of data is used to train supervised learning algorithms?\n",
            "3. What is an example of a common technique used in unsupervised learning?\n",
            "===========================================\n"
          ]
        },
        {
          "data": {
            "text/plain": [
              "['What is the primary focus of machine learning in artificial intelligence?',\n",
              " 'What type of data is used to train supervised learning algorithms?',\n",
              " 'What is an example of a common technique used in unsupervised learning?']"
            ]
          },
          "execution_count": 27,
          "metadata": {},
          "output_type": "execute_result"
        }
      ],
      "source": [
        "generate_questions(text_chunks[2], 3)"
      ]
    },
    {
      "cell_type": "code",
      "execution_count": null,
      "metadata": {
        "id": "Yxf4S-kya8jV"
      },
      "outputs": [],
      "source": [
        "def create_embeddings(text):\n",
        "    \"\"\"\n",
        "    Create embeddings for text using the loaded embedding model.\n",
        "\n",
        "    Args:\n",
        "        text: str or list of str - input text(s) to embed\n",
        "\n",
        "    Returns:\n",
        "        list[np.ndarray]: list of normalized embeddings, each of shape (dim,)\n",
        "    \"\"\"\n",
        "    # Handle single string input\n",
        "    is_single = isinstance(text, str)\n",
        "    if is_single: text = [text]\n",
        "\n",
        "    # Tokenize with error handling\n",
        "    try:\n",
        "        inputs = tokenizer(\n",
        "            text,\n",
        "            padding=True,\n",
        "            truncation=True,\n",
        "            max_length=512,\n",
        "            return_tensors=\"pt\"\n",
        "        ).to(device)\n",
        "    except Exception as e:\n",
        "        print(f\"Tokenization error: {e}\")\n",
        "        return None\n",
        "\n",
        "    # Generate embeddings with no gradient computation\n",
        "    try:\n",
        "        with torch.no_grad():\n",
        "            output = model(**inputs)\n",
        "            # Use CLS token embedding [CLS] at position 0\n",
        "            cls_emb = output.last_hidden_state[:, 0, :]\n",
        "            # L2 normalize for cosine similarity\n",
        "            emb_normalized = F.normalize(cls_emb, p=2, dim=1)\n",
        "\n",
        "        # Convert to list of np.ndarray, each of shape (dim,)\n",
        "        embeddings = [emb.cpu().numpy() for emb in emb_normalized]\n",
        "\n",
        "        # Return single embedding if input was single string\n",
        "        return embeddings\n",
        "\n",
        "    except Exception as e:\n",
        "        print(f\"Embedding generation error: {e}\")\n",
        "        return None"
      ]
    },
    {
      "cell_type": "code",
      "execution_count": null,
      "metadata": {
        "id": "xuYs98Dl6uYD"
      },
      "outputs": [],
      "source": [
        "class SimpleVectorStore:\n",
        "    \"\"\"\n",
        "    A simple vector store implementation using NumPy.\n",
        "    \"\"\"\n",
        "    def __init__(self):\n",
        "        \"\"\"\n",
        "        Initialize the vector store.\n",
        "        \"\"\"\n",
        "        self.vectors = []\n",
        "        self.texts = []\n",
        "        self.metadata = []\n",
        "\n",
        "    def add_item(self, text, embedding, metadata=None):\n",
        "        \"\"\"\n",
        "        Add an item to the vector store.\n",
        "\n",
        "        Args:\n",
        "        text (str): The original text.\n",
        "        embedding (List[float]): The embedding vector.\n",
        "        metadata (dict, optional): Additional metadata.\n",
        "        \"\"\"\n",
        "        self.vectors.append(embedding)\n",
        "        self.texts.append(text)\n",
        "        self.metadata.append(metadata or {})\n",
        "\n",
        "    def similarity_search(self, query_embedding, k=5):\n",
        "        \"\"\"\n",
        "        Find the most similar items to a query embedding.\n",
        "\n",
        "        Args:\n",
        "        query_embedding (List[float]): Query embedding vector.\n",
        "        k (int): Number of results to return.\n",
        "\n",
        "        Returns:\n",
        "        List[Dict]: Top k most similar items with their texts and metadata.\n",
        "        \"\"\"\n",
        "        if not self.vectors:\n",
        "            return []\n",
        "\n",
        "        # Convert query embedding to numpy array\n",
        "        query_vector = query_embedding\n",
        "\n",
        "        # Calculate similarities using cosine similarity\n",
        "        similarities = []\n",
        "        for i, vector in enumerate(self.vectors):\n",
        "            similarity = cosine_similarity(query_vector, vector)\n",
        "            similarities.append((i, similarity))\n",
        "\n",
        "        # Sort by similarity (descending)\n",
        "        similarities.sort(key=lambda x: x[1], reverse=True)\n",
        "\n",
        "        # Return top k results\n",
        "        results = []\n",
        "        for i in range(min(k, len(similarities))):\n",
        "            idx, score = similarities[i]\n",
        "            results.append({\n",
        "                \"text\": self.texts[idx],\n",
        "                \"metadata\": self.metadata[idx],\n",
        "                \"similarity\": score\n",
        "            })\n",
        "\n",
        "        return results\n"
      ]
    },
    {
      "cell_type": "code",
      "execution_count": null,
      "metadata": {
        "colab": {
          "base_uri": "https://localhost:8080/"
        },
        "id": "u2s1M8gH8OO2",
        "outputId": "8d2ec4b6-11dd-4789-ed36-356820a62624"
      },
      "outputs": [
        {
          "name": "stdout",
          "output_type": "stream",
          "text": [
            "Processing chunks and generating questions...\n"
          ]
        },
        {
          "name": "stderr",
          "output_type": "stream",
          "text": [
            "Processing Chunks:   2%|▏         | 1/42 [00:03<02:31,  3.69s/it]"
          ]
        },
        {
          "name": "stdout",
          "output_type": "stream",
          "text": [
            "===========================================\n",
            "questions: \n",
            "1. What is the primary ability of a digital computer or computer-controlled robot in the context of AI?\n",
            "2. What intellectual processes are characteristic of humans that AI systems aim to replicate?\n",
            "3. What event in 1956 is widely considered the birthplace of AI?\n",
            "4. What area of focus did early AI research primarily concentrate on?\n",
            "5. What period saw a rise in the use of new methods in AI research?\n",
            "===========================================\n"
          ]
        },
        {
          "name": "stderr",
          "output_type": "stream",
          "text": [
            "\rProcessing Chunks:   5%|▍         | 2/42 [00:07<02:25,  3.63s/it]"
          ]
        },
        {
          "name": "stdout",
          "output_type": "stream",
          "text": [
            "===========================================\n",
            "questions: \n",
            "1. When is the Dartmouth Workshop considered the birthplace of AI?\n",
            "2. What type of methods were early AI research focused on?\n",
            "3. What advancements were seen in the 1990s and 2000s in AI?\n",
            "4. What has recent breakthroughs in deep learning revolutionized in the field of AI?\n",
            "5. What are some examples of AI systems that are increasingly prevalent in everyday life?\n",
            "===========================================\n"
          ]
        },
        {
          "name": "stderr",
          "output_type": "stream",
          "text": [
            "\rProcessing Chunks:   7%|▋         | 3/42 [00:10<02:15,  3.48s/it]"
          ]
        },
        {
          "name": "stdout",
          "output_type": "stream",
          "text": [
            "===========================================\n",
            "questions: \n",
            "1. What is a key characteristic of machine learning algorithms?\n",
            "2. What type of data is used to train supervised learning algorithms?\n",
            "3. What is an example of supervised learning in the field of image classification?\n",
            "4. What is a common technique used in unsupervised learning to group similar data points?\n",
            "5. What type of data is used to train unsupervised learning algorithms?\n",
            "===========================================\n"
          ]
        },
        {
          "name": "stderr",
          "output_type": "stream",
          "text": [
            "\rProcessing Chunks:  10%|▉         | 4/42 [00:14<02:13,  3.51s/it]"
          ]
        },
        {
          "name": "stdout",
          "output_type": "stream",
          "text": [
            "===========================================\n",
            "questions: \n",
            "1. What is one technique used in unsupervised machine learning to group similar data points?\n",
            "2. What type of feedback does an agent in reinforcement learning receive in the form of?\n",
            "3. What is the primary goal of reinforcement learning in an environment?\n",
            "4. What is the main difference between deep learning and other machine learning techniques?\n",
            "5. What is one area where deep learning has achieved significant breakthroughs?\n",
            "===========================================\n"
          ]
        },
        {
          "name": "stderr",
          "output_type": "stream",
          "text": [
            "\rProcessing Chunks:  12%|█▏        | 5/42 [00:18<02:14,  3.65s/it]"
          ]
        },
        {
          "name": "stdout",
          "output_type": "stream",
          "text": [
            "===========================================\n",
            "questions: \n",
            "1. What is a key application of Convolutional Neural Networks (CNNs)?\n",
            "2. What type of data do Recurrent Neural Networks (RNNs) process?\n",
            "3. What is a key characteristic of Convolutional Neural Networks (CNNs)?\n",
            "4. What is the primary focus of Natural Language Processing (NLP)?\n",
            "5. What is one example of a task that Recurrent Neural Networks (RNNs) are suitable for?\n",
            "===========================================\n"
          ]
        },
        {
          "name": "stderr",
          "output_type": "stream",
          "text": [
            "\rProcessing Chunks:  14%|█▍        | 6/42 [00:21<02:03,  3.44s/it]"
          ]
        },
        {
          "name": "stdout",
          "output_type": "stream",
          "text": [
            "===========================================\n",
            "questions: \n",
            "1. What is the main focus of Natural Language Processing (NLP)?\n",
            "2. What are some tasks involved in Computer Vision?\n",
            "3. What are some applications of AI in the healthcare industry?\n",
            "4. What is one way AI-powered tools can assist in treatment in the healthcare industry?\n",
            "5. What is one example of an application of Computer Vision?\n",
            "===========================================\n"
          ]
        },
        {
          "name": "stderr",
          "output_type": "stream",
          "text": [
            "\rProcessing Chunks:  17%|█▋        | 7/42 [00:24<01:54,  3.29s/it]"
          ]
        },
        {
          "name": "stdout",
          "output_type": "stream",
          "text": [
            "===========================================\n",
            "questions: \n",
            "1. What are some examples of AI applications in medical diagnosis?\n",
            "2. How do AI algorithms assist in financial processes?\n",
            "3. What is one way AI is used in retail to improve the shopping experience?\n",
            "4. What is the primary function of autonomous vehicles in transportation?\n",
            "5. What is one type of AI-powered tool used in medical diagnosis?\n",
            "===========================================\n"
          ]
        },
        {
          "name": "stderr",
          "output_type": "stream",
          "text": [
            "\rProcessing Chunks:  19%|█▉        | 8/42 [00:26<01:47,  3.15s/it]"
          ]
        },
        {
          "name": "stdout",
          "output_type": "stream",
          "text": [
            "===========================================\n",
            "questions: \n",
            "1. What are some uses of AI in the entertainment industry?\n",
            "2. How do AI-powered systems improve the shopping experience?\n",
            "3. What are some benefits of using AI in manufacturing?\n",
            "4. What type of learning platforms is AI enhancing in the education sector?\n",
            "5. How do AI algorithms analyze user preferences in the entertainment industry?\n",
            "===========================================\n"
          ]
        },
        {
          "name": "stderr",
          "output_type": "stream",
          "text": [
            "\rProcessing Chunks:  21%|██▏       | 9/42 [00:30<01:47,  3.27s/it]"
          ]
        },
        {
          "name": "stdout",
          "output_type": "stream",
          "text": [
            "===========================================\n",
            "questions: \n",
            "1. What are some tasks that AI-powered systems can automate in cybersecurity?\n",
            "2. What is a challenge in developing AI systems?\n",
            "3. What is a concern about the fairness of AI systems?\n",
            "4. What is a characteristic of some AI systems that makes it difficult to understand how they make decisions?\n",
            "5. What is a result of AI systems inheriting biases present in the data they are trained on?\n",
            "===========================================\n"
          ]
        },
        {
          "name": "stderr",
          "output_type": "stream",
          "text": [
            "\rProcessing Chunks:  24%|██▍       | 10/42 [00:33<01:41,  3.16s/it]"
          ]
        },
        {
          "name": "stdout",
          "output_type": "stream",
          "text": [
            "===========================================\n",
            "questions: \n",
            "1. What is a major issue with many AI systems?\n",
            "2. What is crucial for building trust in AI systems?\n",
            "3. What is a concern about AI systems relying on large amounts of data?\n",
            "4. What is a challenge related to the automation capabilities of AI?\n",
            "5. What is a potential issue as AI systems become more autonomous?\n",
            "===========================================\n"
          ]
        },
        {
          "name": "stderr",
          "output_type": "stream",
          "text": [
            "\rProcessing Chunks:  26%|██▌       | 11/42 [00:36<01:35,  3.08s/it]"
          ]
        },
        {
          "name": "stdout",
          "output_type": "stream",
          "text": [
            "===========================================\n",
            "questions: \n",
            "1. What is crucial for AI development and deployment?\n",
            "2. What are the significant concerns related to the use of AI in autonomous weapons systems?\n",
            "3. What is the primary goal of Explainable AI (XAI)?\n",
            "4. What is AI at the Edge?\n",
            "5. What is the result of using AI at the Edge?\n",
            "===========================================\n"
          ]
        },
        {
          "name": "stderr",
          "output_type": "stream",
          "text": [
            "\rProcessing Chunks:  29%|██▊       | 12/42 [00:39<01:36,  3.21s/it]"
          ]
        },
        {
          "name": "stdout",
          "output_type": "stream",
          "text": [
            "===========================================\n",
            "questions: \n",
            "1. What is the main advantage of processing data locally on devices using AI at the edge?\n",
            "2. What are some areas where quantum computing has the potential to accelerate AI algorithms?\n",
            "3. What is the future of human-AI collaboration likely to involve?\n",
            "4. What challenges is AI being used to address in the field of healthcare?\n",
            "5. What is a potential benefit of using AI at the edge?\n",
            "===========================================\n"
          ]
        },
        {
          "name": "stderr",
          "output_type": "stream",
          "text": [
            "\rProcessing Chunks:  31%|███       | 13/42 [00:43<01:36,  3.32s/it]"
          ]
        },
        {
          "name": "stdout",
          "output_type": "stream",
          "text": [
            "===========================================\n",
            "questions: \n",
            "1. What are some of the social and environmental challenges that AI is being used to address?\n",
            "2. What is the main goal of AI for social good initiatives?\n",
            "3. What are some of the key areas of focus for regulation and governance in AI development?\n",
            "4. What is essential for realizing the full potential of AI while mitigating its risks?\n",
            "5. What will be important for establishing standards in AI development?\n",
            "===========================================\n"
          ]
        },
        {
          "name": "stderr",
          "output_type": "stream",
          "text": [
            "\rProcessing Chunks:  33%|███▎      | 14/42 [00:46<01:28,  3.15s/it]"
          ]
        },
        {
          "name": "stdout",
          "output_type": "stream",
          "text": [
            "===========================================\n",
            "questions: \n",
            "1. What are the essential components for realizing the full potential of AI?\n",
            "2. In what fields are AI-powered robots used?\n",
            "3. What tasks do industrial robots perform in manufacturing?\n",
            "4. What type of robots assist humans in tasks such as cleaning and healthcare?\n",
            "5. What does AI enable in service robots?\n",
            "===========================================\n"
          ]
        },
        {
          "name": "stderr",
          "output_type": "stream",
          "text": [
            "\rProcessing Chunks:  36%|███▌      | 15/42 [00:48<01:23,  3.07s/it]"
          ]
        },
        {
          "name": "stdout",
          "output_type": "stream",
          "text": [
            "===========================================\n",
            "questions: \n",
            "1. What tasks do service robots assist humans in?\n",
            "2. What is a key benefit of AI-powered surgical robots?\n",
            "3. What environments are exploration robots designed to operate in?\n",
            "4. What approach to robot learning involves training robots by observing human demonstrations?\n",
            "5. What type of learning allows robots to learn complex behaviors without explicit programming?\n",
            "===========================================\n"
          ]
        },
        {
          "name": "stderr",
          "output_type": "stream",
          "text": [
            "\rProcessing Chunks:  38%|███▊      | 16/42 [00:51<01:19,  3.06s/it]"
          ]
        },
        {
          "name": "stdout",
          "output_type": "stream",
          "text": [
            "===========================================\n",
            "questions: \n",
            "1. What is the primary method of training robots in the approach mentioned in the text?\n",
            "2. What is the purpose of reinforcement learning in robot training?\n",
            "3. What is SLAM technology used for in robots?\n",
            "4. What abilities does computer vision provide to robots?\n",
            "5. What type of navigation is enabled by SLAM technology?\n",
            "===========================================\n"
          ]
        },
        {
          "name": "stderr",
          "output_type": "stream",
          "text": [
            "\rProcessing Chunks:  40%|████      | 17/42 [00:55<01:16,  3.07s/it]"
          ]
        },
        {
          "name": "stdout",
          "output_type": "stream",
          "text": [
            "===========================================\n",
            "questions: \n",
            "1. What are some abilities of AI that are mentioned in the text?\n",
            "2. What are the benefits of AI in transforming business operations?\n",
            "3. How does AI enhance Customer Relationship Management (CRM) systems?\n",
            "4. What are some tasks that AI-powered systems can perform in supply chain operations?\n",
            "5. What is one way AI improves supply chain operations?\n",
            "===========================================\n"
          ]
        },
        {
          "name": "stderr",
          "output_type": "stream",
          "text": [
            "\rProcessing Chunks:  43%|████▎     | 18/42 [00:58<01:14,  3.09s/it]"
          ]
        },
        {
          "name": "stdout",
          "output_type": "stream",
          "text": [
            "===========================================\n",
            "questions: \n",
            "1. What are three main areas where AI is used in supply chain operations?\n",
            "2. What are the benefits of using AI in HR for talent acquisition?\n",
            "3. How does AI enhance marketing and sales efforts?\n",
            "4. What is one way AI-powered systems analyze large datasets in financial services?\n",
            "5. What is one function of AI in automating financial processes?\n",
            "===========================================\n"
          ]
        },
        {
          "name": "stderr",
          "output_type": "stream",
          "text": [
            "\rProcessing Chunks:  45%|████▌     | 19/42 [01:01<01:11,  3.12s/it]"
          ]
        },
        {
          "name": "stdout",
          "output_type": "stream",
          "text": [
            "===========================================\n",
            "questions: \n",
            "1. What are some areas where AI is used in the financial industry?\n",
            "2. What are the potential impacts of AI on the workforce?\n",
            "3. What type of tasks are more likely to be automated by AI?\n",
            "4. What are reskilling and upskilling initiatives used for?\n",
            "5. How do AI systems collaborate with humans in the future of work?\n",
            "===========================================\n"
          ]
        },
        {
          "name": "stderr",
          "output_type": "stream",
          "text": [
            "\rProcessing Chunks:  48%|████▊     | 20/42 [01:04<01:09,  3.16s/it]"
          ]
        },
        {
          "name": "stdout",
          "output_type": "stream",
          "text": [
            "===========================================\n",
            "questions: \n",
            "1. What are some benefits of collaboration between humans and AI systems?\n",
            "2. What are some new job roles created by the development and deployment of AI?\n",
            "3. What are some ethical considerations in using AI in the workplace?\n",
            "4. What are some areas where AI-powered systems can be used for creativity and innovation?\n",
            "5. What types of original works can AI algorithms create?\n",
            "===========================================\n"
          ]
        },
        {
          "name": "stderr",
          "output_type": "stream",
          "text": [
            "\rProcessing Chunks:  50%|█████     | 21/42 [01:07<01:06,  3.18s/it]"
          ]
        },
        {
          "name": "stdout",
          "output_type": "stream",
          "text": [
            "===========================================\n",
            "questions: \n",
            "1. What are some examples of original works of art created by AI algorithms?\n",
            "2. How do AI-powered tools assist musicians in the creative process?\n",
            "3. What are some tasks that AI-powered writing tools can assist writers with?\n",
            "4. What is one way AI accelerates innovation?\n",
            "5. What are some areas where AI-powered tools are used in research and development?\n",
            "===========================================\n"
          ]
        },
        {
          "name": "stderr",
          "output_type": "stream",
          "text": [
            "\rProcessing Chunks:  52%|█████▏    | 22/42 [01:10<01:00,  3.04s/it]"
          ]
        },
        {
          "name": "stdout",
          "output_type": "stream",
          "text": [
            "===========================================\n",
            "questions: \n",
            "1. What are AI-powered tools used for in various industries?\n",
            "2. How does AI enable personalized learning experiences?\n",
            "3. What do AI-powered assessments adjust based on student performance?\n",
            "4. What can AI-powered virtual tutors and learning assistants do for students?\n",
            "5. What can AI-powered assessments identify in students?\n",
            "===========================================\n"
          ]
        },
        {
          "name": "stderr",
          "output_type": "stream",
          "text": [
            "\rProcessing Chunks:  55%|█████▍    | 23/42 [01:13<00:56,  2.99s/it]"
          ]
        },
        {
          "name": "stdout",
          "output_type": "stream",
          "text": [
            "===========================================\n",
            "questions: \n",
            "1. What role do tutors play in the context of education?\n",
            "2. What is the primary function of AI in the grading and feedback process?\n",
            "3. What is the purpose of Educational Data Mining?\n",
            "4. How does AI contribute to medical diagnosis and treatment?\n",
            "5. What benefits do AI-powered tools provide in medical care?\n",
            "===========================================\n"
          ]
        },
        {
          "name": "stderr",
          "output_type": "stream",
          "text": [
            "\rProcessing Chunks:  57%|█████▋    | 24/42 [01:16<00:54,  3.05s/it]"
          ]
        },
        {
          "name": "stdout",
          "output_type": "stream",
          "text": [
            "===========================================\n",
            "questions: \n",
            "1. What are some applications of AI in healthcare?\n",
            "2. How does AI impact the time and cost of bringing new treatments to market?\n",
            "3. What is a benefit of personalized medicine enabled by AI?\n",
            "4. What is a result of AI-powered robotic surgery systems in complex procedures?\n",
            "5. What type of data is analyzed by AI in drug discovery and development?\n",
            "===========================================\n"
          ]
        },
        {
          "name": "stderr",
          "output_type": "stream",
          "text": [
            "\rProcessing Chunks:  60%|█████▉    | 25/42 [01:19<00:49,  2.92s/it]"
          ]
        },
        {
          "name": "stdout",
          "output_type": "stream",
          "text": [
            "===========================================\n",
            "questions: \n",
            "1. What benefits do AI-powered systems bring to patient outcomes?\n",
            "2. How does AI improve cybersecurity?\n",
            "3. What is the main function of AI-powered anomaly detection systems?\n",
            "4. What is one way AI is used in fraud detection?\n",
            "5. What is the result of AI streamlining healthcare administration?\n",
            "===========================================\n"
          ]
        },
        {
          "name": "stderr",
          "output_type": "stream",
          "text": [
            "\rProcessing Chunks:  62%|██████▏   | 26/42 [01:21<00:45,  2.82s/it]"
          ]
        },
        {
          "name": "stdout",
          "output_type": "stream",
          "text": [
            "===========================================\n",
            "questions: \n",
            "1. What is AI used for in fraud detection?\n",
            "2. What is a benefit of AI-powered vulnerability management tools?\n",
            "3. What is an advantage of AI-powered systems in incident response?\n",
            "4. What societal challenges can AI potentially address?\n",
            "5. What is a result of AI-powered vulnerability scanning?\n",
            "===========================================\n"
          ]
        },
        {
          "name": "stderr",
          "output_type": "stream",
          "text": [
            "\rProcessing Chunks:  64%|██████▍   | 27/42 [01:24<00:43,  2.90s/it]"
          ]
        },
        {
          "name": "stdout",
          "output_type": "stream",
          "text": [
            "===========================================\n",
            "questions: \n",
            "1. What are some societal challenges that AI has the potential to address?\n",
            "2. What are some key benefits of AI-powered solutions in addressing societal challenges?\n",
            "3. What are the main goals of AI for social good initiatives?\n",
            "4. What are some ethical considerations for ensuring AI's positive social impact?\n",
            "5. What is necessary for building public trust in AI?\n",
            "===========================================\n"
          ]
        },
        {
          "name": "stderr",
          "output_type": "stream",
          "text": [
            "\rProcessing Chunks:  67%|██████▋   | 28/42 [01:27<00:40,  2.89s/it]"
          ]
        },
        {
          "name": "stdout",
          "output_type": "stream",
          "text": [
            "===========================================\n",
            "questions: \n",
            "1. What is essential for the widespread adoption and positive social impact of AI?\n",
            "2. What does global collaboration in AI involve?\n",
            "3. What are the benefits of AI in urban planning and management?\n",
            "4. How do AI-powered smart transportation systems use data?\n",
            "5. What is one way AI enhances quality of life in cities?\n",
            "===========================================\n"
          ]
        },
        {
          "name": "stderr",
          "output_type": "stream",
          "text": [
            "\rProcessing Chunks:  69%|██████▉   | 29/42 [01:31<00:39,  3.00s/it]"
          ]
        },
        {
          "name": "stdout",
          "output_type": "stream",
          "text": [
            "===========================================\n",
            "questions: \n",
            "1. What are the main goals of AI-powered smart transportation systems?\n",
            "2. How do AI-powered systems enhance grid stability in smart cities?\n",
            "3. What is one way AI-powered systems improve public safety and security in smart cities?\n",
            "4. What are AI-powered environmental monitoring systems able to track?\n",
            "5. What types of energy sources are supported by AI-powered energy management systems?\n",
            "===========================================\n"
          ]
        },
        {
          "name": "stderr",
          "output_type": "stream",
          "text": [
            "\rProcessing Chunks:  71%|███████▏  | 30/42 [01:34<00:35,  2.99s/it]"
          ]
        },
        {
          "name": "stdout",
          "output_type": "stream",
          "text": [
            "===========================================\n",
            "questions: \n",
            "1. What is the primary function of AI-powered environmental monitoring systems?\n",
            "2. What are the goals of research in Explainable AI (XAI)?\n",
            "3. What is the focus of research in deep learning?\n",
            "4. What is the intersection of AI being explored in research?\n",
            "5. What is the outcome of AI-powered environmental monitoring systems?\n",
            "===========================================\n"
          ]
        },
        {
          "name": "stderr",
          "output_type": "stream",
          "text": [
            "\rProcessing Chunks:  74%|███████▍  | 31/42 [01:37<00:33,  3.01s/it]"
          ]
        },
        {
          "name": "stdout",
          "output_type": "stream",
          "text": [
            "===========================================\n",
            "questions: \n",
            "1. What area of research combines understanding the human brain with AI development?\n",
            "2. What is the purpose of human-centered AI?\n",
            "3. What type of AI models are capable of creating original content, including images, text, and music?\n",
            "4. What is one method for verifying AI behavior?\n",
            "5. What is a benefit of human-centered AI?\n",
            "===========================================\n"
          ]
        },
        {
          "name": "stderr",
          "output_type": "stream",
          "text": [
            "\rProcessing Chunks:  76%|███████▌  | 32/42 [01:40<00:30,  3.01s/it]"
          ]
        },
        {
          "name": "stdout",
          "output_type": "stream",
          "text": [
            "===========================================\n",
            "questions: \n",
            "1. What types of content can generative AI models create?\n",
            "2. What AI models are mentioned as capable of creating original content?\n",
            "3. How is AI used in the music and sound design industry?\n",
            "4. What tasks can AI tools assist with in the creative process?\n",
            "5. What type of experiences can AI-powered tools create in music?\n",
            "===========================================\n"
          ]
        },
        {
          "name": "stderr",
          "output_type": "stream",
          "text": [
            "\rProcessing Chunks:  79%|███████▊  | 33/42 [01:43<00:28,  3.13s/it]"
          ]
        },
        {
          "name": "stdout",
          "output_type": "stream",
          "text": [
            "===========================================\n",
            "questions: \n",
            "1. What are some tasks that AI-powered tools assist with in the design process?\n",
            "2. What type of media is enhanced by AI-powered characters, dynamic environments, and personalized content?\n",
            "3. How does AI help with climate change mitigation?\n",
            "4. What are some areas where AI is used in the field of agriculture?\n",
            "5. What are some benefits of using AI in visual arts and design?\n",
            "===========================================\n"
          ]
        },
        {
          "name": "stderr",
          "output_type": "stream",
          "text": [
            "\rProcessing Chunks:  81%|████████  | 34/42 [01:46<00:24,  3.05s/it]"
          ]
        },
        {
          "name": "stdout",
          "output_type": "stream",
          "text": [
            "===========================================\n",
            "questions: \n",
            "1. What are some of the applications of AI in environmental conservation?\n",
            "2. How do AI-powered systems aid in precision agriculture?\n",
            "3. What data sources are used in AI-powered wildlife conservation?\n",
            "4. What is one way AI enhances disaster response efforts?\n",
            "5. What is the primary function of AI-powered environmental monitoring systems?\n",
            "===========================================\n"
          ]
        },
        {
          "name": "stderr",
          "output_type": "stream",
          "text": [
            "\rProcessing Chunks:  83%|████████▎ | 35/42 [01:49<00:20,  3.00s/it]"
          ]
        },
        {
          "name": "stdout",
          "output_type": "stream",
          "text": [
            "===========================================\n",
            "questions: \n",
            "1. What are the main functions of AI systems in disaster response?\n",
            "2. What are the key considerations in developing AI strategies and policy frameworks?\n",
            "3. What are some of the issues governments are considering when regulating AI?\n",
            "4. How do AI systems enhance disaster response efforts?\n",
            "5. What is a key challenge in regulating AI?\n",
            "===========================================\n"
          ]
        },
        {
          "name": "stderr",
          "output_type": "stream",
          "text": [
            "\rProcessing Chunks:  86%|████████▌ | 36/42 [01:52<00:17,  2.92s/it]"
          ]
        },
        {
          "name": "stdout",
          "output_type": "stream",
          "text": [
            "===========================================\n",
            "questions: \n",
            "1. What is a key challenge in AI development?\n",
            "2. Who plays a crucial role in funding AI research and development?\n",
            "3. What is the purpose of international cooperation in AI development?\n",
            "4. What is a crucial step for building trust in AI development?\n",
            "5. What drives innovation in AI research and development?\n",
            "===========================================\n"
          ]
        },
        {
          "name": "stderr",
          "output_type": "stream",
          "text": [
            "\rProcessing Chunks:  88%|████████▊ | 37/42 [01:55<00:14,  2.99s/it]"
          ]
        },
        {
          "name": "stdout",
          "output_type": "stream",
          "text": [
            "===========================================\n",
            "questions: \n",
            "1. What are the key principles of Ethical AI?\n",
            "2. What can AI systems inherit from the data they are trained on?\n",
            "3. What is the purpose of Explainable AI (XAI) techniques?\n",
            "4. What are the essential factors for addressing bias in AI systems?\n",
            "5. What is the primary goal of transparency and explainability in AI systems?\n",
            "===========================================\n"
          ]
        },
        {
          "name": "stderr",
          "output_type": "stream",
          "text": [
            "\rProcessing Chunks:  90%|█████████ | 38/42 [01:58<00:11,  2.97s/it]"
          ]
        },
        {
          "name": "stdout",
          "output_type": "stream",
          "text": [
            "===========================================\n",
            "questions: \n",
            "1. What is the main goal of Explainable AI (XAI) techniques?\n",
            "2. What are the concerns related to AI systems?\n",
            "3. What are two essential aspects for ensuring responsible data handling in AI?\n",
            "4. Who are the key stakeholders responsible for AI systems?\n",
            "5. What is crucial for building trust in AI systems?\n",
            "===========================================\n"
          ]
        },
        {
          "name": "stderr",
          "output_type": "stream",
          "text": [
            "\rProcessing Chunks:  93%|█████████▎| 39/42 [02:01<00:08,  2.98s/it]"
          ]
        },
        {
          "name": "stdout",
          "output_type": "stream",
          "text": [
            "===========================================\n",
            "questions: \n",
            "1. What is essential for building trust in AI systems?\n",
            "2. What is the purpose of testing and validating AI models?\n",
            "3. What allows users to enhance trust in AI systems?\n",
            "4. What is crucial for building trust in AI systems during the design and development phase?\n",
            "5. What allows users to customize AI settings and understand their data usage?\n",
            "===========================================\n"
          ]
        },
        {
          "name": "stderr",
          "output_type": "stream",
          "text": [
            "\rProcessing Chunks:  95%|█████████▌| 40/42 [02:03<00:05,  2.93s/it]"
          ]
        },
        {
          "name": "stdout",
          "output_type": "stream",
          "text": [
            "===========================================\n",
            "questions: \n",
            "1. What are the key components of building trust in AI?\n",
            "2. What is the purpose of public engagement and education in AI?\n",
            "3. What are the essential elements for advancing AI capabilities?\n",
            "4. What is the goal of responsible development and deployment of AI?\n",
            "5. What is necessary for addressing the challenges of AI?\n",
            "===========================================\n"
          ]
        },
        {
          "name": "stderr",
          "output_type": "stream",
          "text": [
            "\rProcessing Chunks:  98%|█████████▊| 41/42 [02:07<00:03,  3.02s/it]"
          ]
        },
        {
          "name": "stdout",
          "output_type": "stream",
          "text": [
            "===========================================\n",
            "questions: \n",
            "1. What are the key principles involved in responsible AI development and deployment?\n",
            "2. Why is global collaboration and cooperation important for addressing AI-related challenges?\n",
            "3. What is required to prepare the workforce for the future of AI?\n",
            "4. What type of education is promoted to equip individuals with AI-related skills?\n",
            "5. What approach focuses on developing AI systems with human values in mind?\n",
            "===========================================\n"
          ]
        },
        {
          "name": "stderr",
          "output_type": "stream",
          "text": [
            "Processing Chunks: 100%|██████████| 42/42 [02:10<00:00,  3.11s/it]"
          ]
        },
        {
          "name": "stdout",
          "output_type": "stream",
          "text": [
            "===========================================\n",
            "questions: \n",
            "1. What is a key goal of a human-centered approach to AI?\n",
            "2. What are the primary considerations when developing AI systems using a human-centered approach?\n",
            "3. What are the benefits of embracing a human-centered approach to AI development?\n",
            "4. What is the primary focus of a human-centered approach to AI development?\n",
            "5. What is required for the path forward in AI development and deployment?\n",
            "===========================================\n"
          ]
        },
        {
          "name": "stderr",
          "output_type": "stream",
          "text": [
            "\n"
          ]
        }
      ],
      "source": [
        "vector_store = SimpleVectorStore()\n",
        "\n",
        "print(\"Processing chunks and generating questions...\")\n",
        "for i, chunk in enumerate(tqdm(text_chunks, desc=\"Processing Chunks\")):\n",
        "    # Create embedding for the chunk itself\n",
        "    chunk_embedding = create_embeddings(chunk)[0].reshape(1, -1)\n",
        "\n",
        "    # Add the chunk to the vector store\n",
        "    vector_store.add_item(\n",
        "        text=chunk,\n",
        "        embedding=chunk_embedding,\n",
        "        metadata={\"type\": \"chunk\", \"index\": i}\n",
        "    )\n",
        "\n",
        "    # Generate questions for this chunk\n",
        "    questions = generate_questions(chunk, num_questions=5)\n",
        "\n",
        "    # Create embeddings for each question and add to vector store\n",
        "    for j, question in enumerate(questions):\n",
        "        question_embedding = create_embeddings(question)[0].reshape(1, -1)\n",
        "\n",
        "        # Add the question to the vector store\n",
        "        vector_store.add_item(\n",
        "            text=question,\n",
        "            embedding=question_embedding,\n",
        "            metadata={\"type\": \"question\", \"chunk_index\": i, \"original_chunk\": chunk}\n",
        "        )\n"
      ]
    },
    {
      "cell_type": "code",
      "execution_count": null,
      "metadata": {
        "id": "PhyVB_H68qgV"
      },
      "outputs": [],
      "source": [
        "def semantic_search(query, vector_store, k=5):\n",
        "    \"\"\"\n",
        "    Performs semantic search using the query and vector store.\n",
        "\n",
        "    Args:\n",
        "    query (str): The search query.\n",
        "    vector_store (SimpleVectorStore): The vector store to search in.\n",
        "    k (int): Number of results to return.\n",
        "\n",
        "    Returns:\n",
        "    List[Dict]: Top k most relevant items.\n",
        "    \"\"\"\n",
        "    # Create embedding for the query\n",
        "    query_embedding = create_embeddings(query)[0].reshape(1, -1)\n",
        "\n",
        "    # Search the vector store\n",
        "    results = vector_store.similarity_search(query_embedding, k=k)\n",
        "\n",
        "    return results\n"
      ]
    },
    {
      "cell_type": "code",
      "execution_count": null,
      "metadata": {
        "colab": {
          "base_uri": "https://localhost:8080/"
        },
        "id": "8uk-oIDn_e70",
        "outputId": "27f4eea8-7b90-4986-f1fb-28f7ac814900"
      },
      "outputs": [
        {
          "name": "stdout",
          "output_type": "stream",
          "text": [
            "Query: What is 'Explainable AI' and why is it considered important?\n",
            "\n",
            "Search Results:\n",
            "\n",
            "Relevant Document Chunks:\n",
            "\n",
            "Matched Questions:\n",
            "Question 1 (similarity: 0.9364):\n",
            "What is the purpose of Explainable AI (XAI) techniques?\n",
            "From chunk 36\n",
            "=====================================\n",
            "Question 2 (similarity: 0.9232):\n",
            "What is the primary goal of Explainable AI (XAI)?\n",
            "From chunk 10\n",
            "=====================================\n",
            "Question 3 (similarity: 0.9223):\n",
            "What is the main goal of Explainable AI (XAI) techniques?\n",
            "From chunk 37\n",
            "=====================================\n",
            "Question 4 (similarity: 0.9209):\n",
            "What is the primary goal of transparency and explainability in AI systems?\n",
            "From chunk 36\n",
            "=====================================\n",
            "Question 5 (similarity: 0.9116):\n",
            "What are the goals of research in Explainable AI (XAI)?\n",
            "From chunk 29\n",
            "=====================================\n"
          ]
        }
      ],
      "source": [
        "# Load the validation data from a JSON file\n",
        "with open('data/val.json') as f:\n",
        "    data = json.load(f)\n",
        "\n",
        "# Extract the first query from the validation data\n",
        "query = data[0]['question']\n",
        "\n",
        "# Perform semantic search to find relevant content\n",
        "search_results = semantic_search(query, vector_store, k=5)\n",
        "\n",
        "print(\"Query:\", query)\n",
        "print(\"\\nSearch Results:\")\n",
        "\n",
        "# Organize results by type\n",
        "chunk_results = []\n",
        "question_results = []\n",
        "\n",
        "for result in search_results:\n",
        "    if result[\"metadata\"][\"type\"] == \"chunk\":\n",
        "        chunk_results.append(result)\n",
        "    else:\n",
        "        question_results.append(result)\n",
        "\n",
        "# Print chunk results first\n",
        "print(\"\\nRelevant Document Chunks:\")\n",
        "for i, result in enumerate(chunk_results):\n",
        "    print(f\"Context {i + 1} (similarity: {result['similarity']:.4f}):\")\n",
        "    print(result[\"text\"][:300] + \"...\")\n",
        "    print(\"=====================================\")\n",
        "\n",
        "# Then print question matches\n",
        "print(\"\\nMatched Questions:\")\n",
        "for i, result in enumerate(question_results):\n",
        "    print(f\"Question {i + 1} (similarity: {result['similarity']:.4f}):\")\n",
        "    print(result[\"text\"])\n",
        "    chunk_idx = result[\"metadata\"][\"chunk_index\"]\n",
        "    print(f\"From chunk {chunk_idx}\")\n",
        "    print(\"=====================================\")"
      ]
    },
    {
      "cell_type": "code",
      "execution_count": 47,
      "metadata": {
        "id": "OH7QO4JC_mDV"
      },
      "outputs": [],
      "source": [
        "def prepare_context(search_results):\n",
        "    \"\"\"\n",
        "    Prepares a unified context from search results for response generation.\n",
        "\n",
        "    Args:\n",
        "    search_results (List[Dict]): Results from semantic search.\n",
        "\n",
        "    Returns:\n",
        "    str: Combined context string.\n",
        "    \"\"\"\n",
        "    # Extract unique chunks referenced in the results\n",
        "    chunk_indices = set()\n",
        "    context_chunks = []\n",
        "\n",
        "    # First add direct chunk matches\n",
        "    for result in search_results:\n",
        "        if result[\"metadata\"][\"type\"] == \"chunk\":\n",
        "            chunk_indices.add(result[\"metadata\"][\"index\"])\n",
        "            context_chunks.append(f\"Chunk {result['metadata']['index']}:\\n{result['text']}\")\n",
        "\n",
        "    # Then add chunks referenced by questions\n",
        "    for result in search_results:\n",
        "        if result[\"metadata\"][\"type\"] == \"question\":\n",
        "            chunk_idx = result[\"metadata\"][\"chunk_index\"]\n",
        "            if chunk_idx not in chunk_indices:\n",
        "                chunk_indices.add(chunk_idx)\n",
        "                context_chunks.append(f\"Chunk {chunk_idx} (referenced by question '{result['text']}'):\\n{result['metadata']['original_chunk']}\")\n",
        "\n",
        "    # Combine all context chunks\n",
        "    full_context = \"\\n\\n\".join(context_chunks)\n",
        "    return full_context\n"
      ]
    },
    {
      "cell_type": "code",
      "execution_count": null,
      "metadata": {
        "id": "LvdYJICFfmGW"
      },
      "outputs": [],
      "source": [
        "# use api\n",
        "from dotenv  import load_dotenv\n",
        "load_dotenv(\"conf.env\")\n",
        "\n",
        "client = OpenAI(\n",
        "    base_url = os.getenv(\"GEMINI_BASE_URL\"),\n",
        "    api_key = os.getenv(\"GEMINI_API_KEY\")\n",
        ")"
      ]
    },
    {
      "cell_type": "code",
      "execution_count": 49,
      "metadata": {
        "id": "3kaGpo4M_paB"
      },
      "outputs": [],
      "source": [
        "def generate_response(query, context, model=\"gemini-2.5-flash\"):\n",
        "    \"\"\"\n",
        "    Generates a response based on the query and context.\n",
        "\n",
        "    Args:\n",
        "    query (str): User's question.\n",
        "    context (str): Context information retrieved from the vector store.\n",
        "    model (str): Model to use for response generation.\n",
        "\n",
        "    Returns:\n",
        "    str: Generated response.\n",
        "    \"\"\"\n",
        "    system_prompt = \"You are an AI assistant that strictly answers based on the given context. If the answer cannot be derived directly from the provided context, respond with: 'I do not have enough information to answer that.'\"\n",
        "\n",
        "    user_prompt = f\"\"\"\n",
        "        Context:\n",
        "        {context}\n",
        "\n",
        "        Question: {query}\n",
        "\n",
        "        Please answer the question based only on the context provided above. Be concise and accurate.\n",
        "    \"\"\"\n",
        "\n",
        "    response = client.chat.completions.create(\n",
        "        model=model,\n",
        "        temperature=0,\n",
        "        messages=[\n",
        "            {\"role\": \"system\", \"content\": system_prompt},\n",
        "            {\"role\": \"user\", \"content\": user_prompt}\n",
        "        ]\n",
        "    )\n",
        "\n",
        "    return response.choices[0].message.content\n"
      ]
    },
    {
      "cell_type": "code",
      "execution_count": 50,
      "metadata": {
        "colab": {
          "base_uri": "https://localhost:8080/"
        },
        "id": "ifN6s91G_uzk",
        "outputId": "18734aab-9805-4ed0-9575-67ea7e134e15"
      },
      "outputs": [
        {
          "name": "stdout",
          "output_type": "stream",
          "text": [
            "\n",
            "Query: What is 'Explainable AI' and why is it considered important?\n",
            "\n",
            "Response:\n",
            "Explainable AI (XAI) aims to make AI systems and their decisions more transparent and understandable, providing insights into how AI models make decisions. It is considered important for building trust in AI systems, enabling users to assess their fairness, accuracy, and reliability, and enhancing accountability.\n"
          ]
        }
      ],
      "source": [
        "# Prepare context from search results\n",
        "context = prepare_context(search_results)\n",
        "\n",
        "# Generate response\n",
        "response_text = generate_response(query, context)\n",
        "\n",
        "print(\"\\nQuery:\", query)\n",
        "print(\"\\nResponse:\")\n",
        "print(response_text)"
      ]
    },
    {
      "cell_type": "code",
      "execution_count": 53,
      "metadata": {
        "id": "O_WNzn5b_7ao"
      },
      "outputs": [],
      "source": [
        "def evaluate_response(query, response, reference_answer, model=\"gemini-2.5-flash\"):\n",
        "    \"\"\"\n",
        "    Evaluates the AI response against a reference answer.\n",
        "\n",
        "    Args:\n",
        "    query (str): The user's question.\n",
        "    response (str): The AI-generated response.\n",
        "    reference_answer (str): The reference/ideal answer.\n",
        "    model (str): Model to use for evaluation.\n",
        "\n",
        "    Returns:\n",
        "    str: Evaluation feedback.\n",
        "    \"\"\"\n",
        "    # Define the system prompt for the evaluation system\n",
        "    evaluate_system_prompt = \"\"\"You are an intelligent evaluation system tasked with assessing AI responses.\n",
        "\n",
        "        Compare the AI assistant's response to the true/reference answer, and evaluate based on:\n",
        "        1. Factual correctness - Does the response contain accurate information?\n",
        "        2. Completeness - Does it cover all important aspects from the reference?\n",
        "        3. Relevance - Does it directly address the question?\n",
        "\n",
        "        Assign a score from 0 to 1:\n",
        "        - 1.0: Perfect match in content and meaning\n",
        "        - 0.8: Very good, with minor omissions/differences\n",
        "        - 0.6: Good, covers main points but misses some details\n",
        "        - 0.4: Partial answer with significant omissions\n",
        "        - 0.2: Minimal relevant information\n",
        "        - 0.0: Incorrect or irrelevant\n",
        "\n",
        "        Provide your score with justification.\n",
        "    \"\"\"\n",
        "\n",
        "    # Create the evaluation prompt\n",
        "    evaluation_prompt = f\"\"\"\n",
        "        User Query: {query}\n",
        "\n",
        "        AI Response:\n",
        "        {response}\n",
        "\n",
        "        Reference Answer:\n",
        "        {reference_answer}\n",
        "\n",
        "        Please evaluate the AI response against the reference answer.\n",
        "    \"\"\"\n",
        "\n",
        "    # Generate evaluation\n",
        "    eval_response = client.chat.completions.create(\n",
        "        model=model,\n",
        "        temperature=0,\n",
        "        messages=[\n",
        "            {\"role\": \"system\", \"content\": evaluate_system_prompt},\n",
        "            {\"role\": \"user\", \"content\": evaluation_prompt}\n",
        "        ]\n",
        "    )\n",
        "\n",
        "    return eval_response.choices[0].message.content\n"
      ]
    },
    {
      "cell_type": "code",
      "execution_count": 54,
      "metadata": {
        "colab": {
          "base_uri": "https://localhost:8080/"
        },
        "id": "r8ouCqLd__RR",
        "outputId": "414a7d2d-fe18-4a39-acbf-1e98c393f6e1"
      },
      "outputs": [
        {
          "name": "stdout",
          "output_type": "stream",
          "text": [
            "\n",
            "Evaluation:\n",
            "Score: 1.0\n",
            "\n",
            "Justification: The AI response perfectly captures the definition of Explainable AI (XAI) and accurately lists the key reasons for its importance (transparency, understanding, trust, fairness, accountability), aligning almost identically with the reference answer. The slight expansion on \"enabling users to assess their fairness, accuracy, and reliability\" is a valid and relevant elaboration that enhances the answer without introducing any inaccuracies or deviating from the core message of the reference.\n"
          ]
        }
      ],
      "source": [
        "# Get reference answer from validation data\n",
        "reference_answer = data[0]['ideal_answer']\n",
        "\n",
        "# Evaluate the response\n",
        "evaluation = evaluate_response(query, response_text, reference_answer)\n",
        "\n",
        "print(\"\\nEvaluation:\")\n",
        "print(evaluation)"
      ]
    },
    {
      "cell_type": "code",
      "execution_count": null,
      "metadata": {
        "colab": {
          "base_uri": "https://localhost:8080/"
        },
        "id": "_wpm_aUpgKma",
        "outputId": "ec19936c-6e70-4bd9-8184-af92dad6a044"
      },
      "outputs": [
        {
          "name": "stdout",
          "output_type": "stream",
          "text": [
            "[[0.99685514]]\n"
          ]
        }
      ],
      "source": [
        "ai_res = create_embeddings(ai_response_text)[0].reshape(1, -1)\n",
        "ideal_res = create_embeddings(data[0]['ideal_answer'])[0].reshape(1, -1)\n",
        "\n",
        "print(cosine_similarity(ai_res, ideal_res))"
      ]
    },
    {
      "cell_type": "code",
      "execution_count": null,
      "metadata": {
        "id": "CadHx5Q6gSmS"
      },
      "outputs": [],
      "source": []
    }
  ],
  "metadata": {
    "accelerator": "GPU",
    "colab": {
      "gpuType": "A100",
      "machine_shape": "hm",
      "provenance": []
    },
    "kernelspec": {
      "display_name": "Python 3",
      "name": "python3"
    },
    "language_info": {
      "name": "python"
    }
  },
  "nbformat": 4,
  "nbformat_minor": 0
}
