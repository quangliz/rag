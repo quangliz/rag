{
 "cells": [
  {
   "cell_type": "markdown",
   "id": "3b8d7e12",
   "metadata": {},
   "source": [
    "### Why?\n",
    "Traditional retrieval methods return isolated text chunks, which can lead to incomplete answers. \n",
    "\n",
    "To address this, I introduce Context-Enriched Retrieval, which ensures that retrieved information includes neighboring chunks for better coherence."
   ]
  },
  {
   "cell_type": "markdown",
   "id": "416edbf9",
   "metadata": {},
   "source": [
    "#### Steps in This Notebook:\n",
    "\n",
    "- Data Ingestion: Extract text from a PDF.\n",
    "- Chunking with Overlapping Context: Split text into overlapping chunks to preserve context.\n",
    "- Embedding Creation: Convert text chunks into numerical representations.\n",
    "- Context-Aware Retrieval: Retrieve relevant chunks along with their neighbors for better completeness.\n",
    "- Response Generation: Use a language model to generate responses based on retrieved context.\n",
    "- Evaluation: Assess the model's response accuracy.\n"
   ]
  },
  {
   "cell_type": "code",
   "execution_count": 2,
   "id": "ef2310c2",
   "metadata": {},
   "outputs": [],
   "source": [
    "import fitz\n",
    "import os\n",
    "from dotenv import load_dotenv\n",
    "import numpy as np\n",
    "import json\n",
    "from openai import OpenAI\n",
    "\n",
    "from transformers import AutoTokenizer, AutoModel\n",
    "import torch\n",
    "import torch.nn.functional as F\n",
    "from sklearn.metrics.pairwise import cosine_similarity"
   ]
  },
  {
   "cell_type": "code",
   "execution_count": 3,
   "id": "b6f5af4d",
   "metadata": {},
   "outputs": [],
   "source": [
    "def extract_text_from_pdf(pdf_path):\n",
    "    pdf = fitz.open(pdf_path)\n",
    "    all_text = \"\"\n",
    "\n",
    "    for page in pdf:\n",
    "        all_text += page.get_text(\"text\")\n",
    "    \n",
    "    return all_text\n",
    "\n",
    "pdf_path = \"../data/AI_Information.pdf\"\n",
    "\n",
    "extracted_text = extract_text_from_pdf(pdf_path)"
   ]
  },
  {
   "cell_type": "code",
   "execution_count": 4,
   "id": "76ce309b",
   "metadata": {},
   "outputs": [
    {
     "data": {
      "text/plain": [
       "'Understanding Artificial Intelligence \\nChapter 1: Introduction to Artificial Intelligence \\nArtificial intelligence (AI) refers to the ability of a digital computer or computer-controlled robot \\nto perform tasks commonly associated with intelligent beings. The term is frequently applied to \\nthe project of developing systems endowed with the intellectual processes characteristic of \\nhumans, such as the ability to reason, discover meaning, generalize, or learn from past \\nexperience. Over the past few decades, advancements in computing power and data availability \\nhave significantly accelerated the development and deployment of AI. \\nHistorical Context \\nThe idea of artificial intelligence has existed for centuries, often depicted in myths and fiction. \\nHowever, the formal field of AI research began in the mid-20th century. The Dartmouth Workshop \\nin 1956 is widely considered the birthplace of AI. Early AI research focused on problem-solving \\nand symbolic methods. The 1980s saw a rise in expert systems, while the 1990s and 2000s \\nbrought advancements in machine learning and neural networks. Recent breakthroughs in deep \\nlearning have revolutionized the field. \\nModern Observations \\nModern AI systems are increasingly prevalent in everyday life. From virtual assistants like Siri and \\nAlexa to recommendation algorithms on streaming services and social media, AI is impacting \\nhow we live, work, and interact. The development of self-driving cars, advanced medical \\ndiagnostics, and sophisticated financial modeling tools demonstrates the broad and growing \\napplications of AI. Concerns about ethical implications, bias, and job displacement are also \\nincreasingly prominent. \\nChapter 2: Core Concepts of Artificial Intelligence \\nMachine Learning \\nMachine learning (ML) is a subset of AI that focuses on enabling systems to learn from data \\nwithout being explicitly programmed. ML algorithms identify patterns, make predictions, and \\nimprove their performance over time as they are exposed to more data. \\nSupervised Learning \\nIn supervised learning, algorithms are trained on labeled data, where the input data is paired with \\nthe correct output. This allows the algorithm to learn the relationship between inputs and outputs \\nand make predictions on new, unseen data. Examples include image classification and spam \\ndetection. \\nUnsupervised Learning \\nUnsupervised learning algorithms are trained on unlabeled data, where the algorithm must \\ndiscover patterns and structures in the data without explicit guidance. Common techniques \\ninclude clustering (grouping similar data points) and dimensionality reduction (reducing the \\nnumber of variables while preserving important information). \\n \\nReinforcement Learning \\nReinforcement learning involves training an agent to make decisions in an environment to \\nmaximize a reward. The agent learns through trial and error, receiving feedback in the form of \\nrewards or penalties. This approach is used in game playing, robotics, and resource \\nmanagement. \\nDeep Learning \\nDeep learning is a subfield of machine learning that uses artificial neural networks with multiple \\nlayers (deep neural networks) to analyze data. These networks are inspired by the structure and \\nfunction of the human brain. Deep learning has achieved significant breakthroughs in areas such \\nas image recognition, natural language processing, and speech recognition. \\nConvolutional Neural Networks (CNNs) \\nCNNs are a type of deep neural network particularly effective for processing images and videos. \\nThey use convolutional layers to automatically learn features from the input data. CNNs are \\nwidely used in object detection, facial recognition, and medical image analysis. \\nRecurrent Neural Networks (RNNs) \\nRNNs are designed to process sequential data, such as text and time series. They have feedback \\nconnections that allow information to persist over time, making them suitable for tasks like \\nlanguage translation, speech recognition, and sentiment analysis. \\nNatural Language Processing (NLP) \\nNatural Language Processing (NLP) is a branch of AI that focuses on enabling computers to \\nunderstand, interpret, and generate human language. NLP techniques are used in chatbots, \\nmachine translation, text summarization, and sentiment analysis. \\nComputer Vision \\nComputer vision is a field of AI that enables computers to \"see\" and interpret images and videos. \\nThis involves tasks such as object detection, image segmentation, and facial recognition. \\nComputer vision is used in self-driving cars, medical imaging, and surveillance systems. \\nChapter 3: Applications of Artificial Intelligence \\nThe applications of AI are vast and continue to expand across various industries and domains. \\nThese applications include: \\nHealthcare \\nAI is transforming healthcare through applications such as medical diagnosis, drug discovery, \\npersonalized medicine, and robotic surgery. AI-powered tools can analyze medical images, \\npredict patient outcomes, and assist in treatment planning. \\nFinance \\nIn finance, AI is used for fraud detection, algorithmic trading, risk management, and customer \\nservice. AI algorithms can analyze large datasets to identify patterns, predict market trends, and \\nautomate financial processes. \\n \\nTransportation \\nAI is revolutionizing transportation with the development of self-driving cars, traffic optimization \\nsystems, and logistics management. Autonomous vehicles use AI to perceive their surroundings, \\nmake driving decisions, and navigate safely. \\nRetail \\nThe retail industry uses AI for personalized recommendations, inventory management, customer \\nservice chatbots, and supply chain optimization. AI-powered systems can analyze customer data \\nto predict demand, personalize offers, and improve the shopping experience. \\nManufacturing \\nAI is used in manufacturing for predictive maintenance, quality control, process optimization, \\nand robotics. AI-powered systems can monitor equipment, detect anomalies, and automate \\ntasks, leading to increased efficiency and reduced costs. \\nEducation \\nAI is enhancing education through personalized learning platforms, automated grading systems, \\nand virtual tutors. AI-powered tools can adapt to individual student needs, provide feedback, and \\ncreate customized learning experiences. \\nEntertainment \\nThe entertainment industry uses AI for content recommendation, game development, and virtual \\nreality experiences. AI algorithms analyze user preferences to suggest movies, music, and \\ngames, enhancing user engagement. \\nCybersecurity \\nAI is used in cybersecurity to detect and respond to threats, analyze network traffic, and identify \\nvulnerabilities. AI-powered systems can automate security tasks, improve threat detection \\naccuracy, and enhance overall cybersecurity posture. \\nChapter 4: Ethical and Societal Implications of AI \\nThe rapid development and deployment of AI raise significant ethical and societal concerns. \\nThese concerns include: \\nBias and Fairness \\nAI systems can inherit and amplify biases present in the data they are trained on, leading to unfair \\nor discriminatory outcomes. Ensuring fairness and mitigating bias in AI systems is a critical \\nchallenge. \\nTransparency and Explainability \\nMany AI systems, particularly deep learning models, are \"black boxes,\" making it difficult to \\nunderstand how they arrive at their decisions. Enhancing transparency and explainability is \\ncrucial for building trust and accountability. \\n \\n \\nPrivacy and Security \\nAI systems often rely on large amounts of data, raising concerns about privacy and data security. \\nProtecting sensitive information and ensuring responsible data handling are essential. \\nJob Displacement \\nThe automation capabilities of AI have raised concerns about job displacement, particularly in \\nindustries with repetitive or routine tasks. Addressing the potential economic and social impacts \\nof AI-driven automation is a key challenge. \\nAutonomy and Control \\nAs AI systems become more autonomous, questions arise about control, accountability, and the \\npotential for unintended consequences. Establishing clear guidelines and ethical frameworks for \\nAI development and deployment is crucial. \\nWeaponization of AI \\nThe potential use of AI in autonomous weapons systems raises significant ethical and security \\nconcerns. International discussions and regulations are needed to address the risks associated \\nwith AI-powered weapons. \\nChapter 5: The Future of Artificial Intelligence \\nThe future of AI is likely to be characterized by continued advancements and broader adoption \\nacross various domains. Key trends and areas of development include: \\nExplainable AI (XAI) \\nExplainable AI (XAI) aims to make AI systems more transparent and understandable. XAI \\ntechniques are being developed to provide insights into how AI models make decisions, \\nenhancing trust and accountability. \\nAI at the Edge \\nAI at the edge involves processing data locally on devices, rather than relying on cloud-based \\nservers. This approach reduces latency, improves privacy, and enables AI applications in \\nenvironments with limited connectivity. \\nQuantum Computing and AI \\nQuantum computing has the potential to significantly accelerate AI algorithms, enabling \\nbreakthroughs in areas such as drug discovery, materials science, and optimization. The \\nintersection of quantum computing and AI is a promising area of research. \\nHuman-AI Collaboration \\nThe future of AI is likely to involve increased collaboration between humans and AI systems. This \\nincludes developing AI tools that augment human capabilities, support decision-making, and \\nenhance productivity. \\n \\n \\n \\nAI for Social Good \\nAI is increasingly being used to address social and environmental challenges, such as climate \\nchange, poverty, and healthcare disparities. AI for social good initiatives aim to leverage AI for \\npositive impact. \\nRegulation and Governance \\nAs AI becomes more pervasive, there will be a growing need for regulation and governance to \\nensure responsible development and deployment. This includes establishing ethical guidelines, \\naddressing \\nbias \\nand \\nfairness, \\nand \\nprotecting \\nprivacy \\nand \\nsecurity. \\nInternational collaborations on standards will be important. \\nBy understanding the core concepts, applications, ethical implications, and future directions of \\nAI, we can better navigate the opportunities and challenges presented by this transformative \\ntechnology. Continued research, responsible development, and thoughtful governance are \\nessential for realizing the full potential of AI while mitigating its risks. \\nChapter 6: AI and Robotics \\nIntegration of AI and Robotics \\nThe integration of AI and robotics combines the physical capabilities of robots with the cognitive \\nabilities of AI. This synergy enables robots to perform complex tasks, adapt to changing \\nenvironments, and interact with humans more naturally. AI-powered robots are used in \\nmanufacturing, healthcare, logistics, and exploration. \\nTypes of Robots \\nIndustrial Robots \\nIndustrial robots are used in manufacturing for tasks such as welding, painting, assembly, and \\nmaterial handling. AI enhances their precision, efficiency, and adaptability, allowing them to work \\nalongside humans in collaborative settings (cobots). \\nService Robots \\nService robots assist humans in various tasks, including cleaning, delivery, customer service, and \\nhealthcare. AI enables these robots to navigate, interact with people, and perform tasks \\nautonomously or semi-autonomously. \\nSurgical Robots \\nSurgical robots assist surgeons in performing complex procedures with greater precision and \\ncontrol. AI-powered surgical robots can enhance dexterity, reduce invasiveness, and improve \\npatient outcomes. \\nExploration Robots \\nExploration robots are designed to operate in hazardous or inaccessible environments, such as \\nspace, deep sea, and disaster zones. AI enables these robots to navigate, collect data, and make \\ndecisions autonomously. \\n \\n \\nRobot Learning \\nImitation Learning \\nImitation learning involves training robots to perform tasks by observing human demonstrations. \\nThis approach allows robots to learn complex behaviors without explicit programming. \\nReinforcement Learning for Robots \\nReinforcement learning is used to train robots to perform tasks through trial and error, receiving \\nrewards for successful actions. This approach enables robots to adapt to changing environments \\nand optimize their performance over time. \\nRobot Navigation and Perception \\nSLAM (Simultaneous Localization and Mapping) \\nSLAM technology enables robots to build a map of an unknown environment while \\nsimultaneously keeping track of their location within that map. This is crucial for autonomous \\nnavigation in dynamic environments. \\nComputer Vision for Robots \\nComputer vision provides robots with the ability to \"see\" and interpret their surroundings. This \\nincludes object recognition, scene understanding, and obstacle avoidance. \\nChapter 7: AI in Business and Industry \\nTransforming Business Operations \\nAI is transforming business operations across various industries, leading to increased efficiency, \\nreduced costs, and improved decision-making. AI-powered tools automate tasks, analyze data, \\nand provide insights that drive business growth. \\nCustomer Relationship Management (CRM) \\nAI enhances CRM systems by providing personalized customer experiences, predicting customer \\nbehavior, and automating customer service interactions. AI-powered chatbots, recommendation \\nengines, and sentiment analysis tools improve customer engagement and satisfaction. \\nSupply Chain Management \\nAI optimizes supply chain operations by predicting demand, managing inventory, and \\nstreamlining logistics. AI-powered systems improve forecasting accuracy, reduce waste, and \\nenhance supply chain resilience. \\nHuman Resources (HR) \\nAI is used in HR for talent acquisition, employee onboarding, performance management, and \\ntraining. AI-powered tools automate recruitment processes, personalize training programs, and \\nprovide insights into employee engagement and retention. \\nMarketing and Sales \\nAI enhances marketing and sales efforts by analyzing customer data, personalizing marketing \\ncampaigns, and predicting sales trends. AI-powered tools improve targeting, optimize ad \\nspending, and enhance customer segmentation. \\nFinancial Services \\nAI is used in financial services for fraud detection, risk management, algorithmic trading, and \\ncustomer service. AI-powered systems analyze large datasets to identify patterns, predict market \\nmovements, and automate financial processes. \\nChapter 8: AI and the Future of Work \\nAutomation and Job Displacement \\nThe increasing capabilities of AI raise concerns about job displacement, particularly in industries \\nwith repetitive or routine tasks. While AI may automate some jobs, it also creates new \\nopportunities and transforms existing roles. \\nReskilling and Upskilling \\nAddressing the potential impacts of AI on the workforce requires reskilling and upskilling \\ninitiatives. These programs equip workers with the skills needed to adapt to new roles and \\ncollaborate with AI systems. \\nHuman-AI Collaboration \\nThe future of work is likely to involve increased collaboration between humans and AI systems. AI \\ntools can augment human capabilities, automate mundane tasks, and provide insights that \\nsupport decision-making. \\nNew Job Roles \\nThe development and deployment of AI create new job roles in areas such as AI development, \\ndata science, AI ethics, and AI training. These roles require specialized skills and expertise. \\nEthical Considerations \\nAddressing the ethical implications of AI in the workplace is crucial. This includes ensuring \\nfairness, transparency, and accountability in AI systems, as well as protecting worker rights and \\nprivacy. \\nChapter 9: AI, Creativity, and Innovation \\nAI as a Creative Tool \\nAI is increasingly being used as a tool for creativity and innovation. AI-powered systems can \\ngenerate art, music, and literature, assist in design processes, and accelerate scientific \\ndiscovery. \\nAI-Generated Art \\nAI algorithms can create original works of art, including paintings, drawings, and sculptures. \\nThese systems learn from existing art and generate new pieces that exhibit unique styles and \\npatterns. \\nAI in Music Composition \\nAI is used to compose music, generate melodies, and create arrangements. AI-powered tools can \\nassist musicians in the creative process, offering new possibilities for musical expression. \\nAI in Writing and Content Creation \\nAI is used to write articles, generate content, and create scripts. AI-powered writing tools can \\nassist writers with research, editing, and content generation, enhancing productivity and \\ncreativity. \\nAI-Driven Innovation \\nAI accelerates innovation by analyzing large datasets, identifying patterns, and generating new \\nideas. AI-powered tools are used in research and development, product design, and problem-\\nsolving across various industries. \\nChapter 10: AI and Education \\nPersonalized Learning \\nAI enables personalized learning experiences by adapting to individual student needs and \\nlearning styles. AI-powered platforms provide customized content, feedback, and pacing, \\nenhancing student engagement and outcomes. \\nAdaptive Assessments \\nAI-powered assessments adjust the difficulty of questions based on student performance, \\nproviding a more accurate measure of knowledge and skills. Adaptive assessments can also \\nidentify learning gaps and inform instructional strategies. \\nVirtual Tutors and Learning Assistants \\nAI-powered virtual tutors and learning assistants provide personalized support to students, \\nanswering questions, offering guidance, and tracking progress. These tools enhance access to \\neducation and improve learning outcomes. \\nAutomated Grading and Feedback \\nAI automates grading and feedback processes, saving educators time and providing timely \\nfeedback to students. AI-powered systems can assess essays, assignments, and exams, \\nidentifying areas for improvement. \\nEducational Data Mining \\nEducational data mining uses AI to analyze student data, identify patterns, and predict learning \\noutcomes. This information can inform instructional strategies, improve educational programs, \\nand enhance student support services. \\n \\nChapter 11: AI and Healthcare \\nMedical Diagnosis and Treatment \\nAI is revolutionizing medical diagnosis and treatment by analyzing medical images, predicting \\npatient outcomes, and assisting in treatment planning. AI-powered tools enhance accuracy, \\nefficiency, and patient care. \\nDrug Discovery and Development \\nAI accelerates drug discovery and development by analyzing biological data, predicting drug \\nefficacy, and identifying potential drug candidates. AI-powered systems reduce the time and cost \\nof bringing new treatments to market. \\nPersonalized Medicine \\nAI enables personalized medicine by analyzing individual patient data, predicting treatment \\nresponses, and tailoring interventions. Personalized medicine enhances treatment effectiveness \\nand reduces adverse effects. \\nRobotic Surgery \\nAI-powered robotic surgery systems assist surgeons in performing complex procedures with \\ngreater precision and control. These systems enhance dexterity, reduce invasiveness, and \\nimprove patient outcomes. \\nHealthcare Administration \\nAI streamlines healthcare administration by automating tasks, managing patient records, and \\noptimizing workflows. AI-powered systems improve efficiency, reduce costs, and enhance \\npatient experience. \\nChapter 12: AI and Cybersecurity \\nThreat Detection and Prevention \\nAI enhances cybersecurity by detecting and preventing threats, analyzing network traffic, and \\nidentifying vulnerabilities. AI-powered systems automate security tasks, improve threat \\ndetection accuracy, and enhance overall cybersecurity posture. \\nAnomaly Detection \\nAI-powered anomaly detection systems identify unusual patterns and behaviors that may \\nindicate a security threat. These systems provide real-time alerts and support rapid response to \\nsecurity incidents. \\nFraud Detection \\nAI is used in fraud detection to analyze transactions, identify suspicious activities, and prevent \\nfraudulent actions. AI-powered systems improve accuracy, reduce false positives, and enhance \\nfraud prevention measures. \\nVulnerability Management \\nAI helps manage vulnerabilities by identifying and prioritizing security weaknesses in systems and \\nnetworks. AI-powered tools automate vulnerability scanning, assessment, and remediation, \\nreducing the risk of cyberattacks. \\nIncident Response \\nAI enhances incident response by automating tasks, analyzing data, and providing insights that \\nsupport rapid and effective response to security incidents. AI-powered systems improve \\nresponse time, minimize damage, and enhance recovery efforts. \\nChapter 13: The Social Impact of AI \\nAddressing Societal Challenges \\nAI has the potential to address significant societal challenges, such as climate change, poverty, \\nand healthcare disparities. AI-powered solutions can improve resource management, enhance \\ndecision-making, and support sustainable development. \\nAI for Social Good \\nAI for social good initiatives leverage AI to tackle social and environmental problems. These \\nprojects focus on using AI to improve access to education, healthcare, and social services, \\npromoting equity and well-being. \\nEthical Considerations \\nAddressing the ethical implications of AI is crucial for ensuring its positive social impact. This \\nincludes promoting fairness, transparency, and accountability in AI systems, as well as protecting \\nprivacy and human rights. \\nPublic Perception and Trust \\nPublic perception and trust in AI are essential for its widespread adoption and positive social \\nimpact. Building trust requires transparency, explainability, and responsible development and \\ndeployment of AI systems. \\nGlobal Collaboration \\nAddressing the social impact of AI requires global collaboration and cooperation. This includes \\nsharing knowledge, developing standards, and promoting responsible AI practices across \\nborders. \\nChapter 14: AI and Smart Cities \\nUrban Planning and Management \\nAI enhances urban planning and management by analyzing data, optimizing resource allocation, \\nand improving city services. AI-powered systems support sustainable urban development, \\nenhance quality of life, and promote efficient city operations. \\nSmart Transportation \\nAI-powered smart transportation systems optimize traffic flow, reduce congestion, and enhance \\npublic transit. These systems use real-time data to manage traffic signals, provide route \\nrecommendations, and support autonomous vehicles. \\nEnergy Management \\nAI optimizes energy management in smart cities by predicting demand, managing supply, and \\npromoting energy efficiency. AI-powered systems enhance grid stability, reduce energy waste, \\nand support the integration of renewable energy sources. \\nPublic Safety and Security \\nAI enhances public safety and security in smart cities by monitoring public spaces, detecting \\nanomalies, and supporting emergency response. AI-powered systems improve crime prevention, \\nenhance situational awareness, and support rapid response to incidents. \\nEnvironmental Monitoring \\nAI-powered environmental monitoring systems track air and water quality, detect pollution, and \\nsupport environmental protection efforts. These systems provide real-time data, identify \\npollution sources, and inform environmental policies. \\nChapter 15: The Future of AI Research \\nAdvancements in Deep Learning \\nContinued advancements in deep learning are expected to drive further breakthroughs in AI. \\nResearch is focused on developing more efficient and interpretable deep learning models, as well \\nas exploring new architectures and training techniques. \\nExplainable AI (XAI) \\nExplainable AI (XAI) aims to make AI systems more transparent and understandable. Research in \\nXAI focuses on developing methods for explaining AI decisions, enhancing trust, and improving \\naccountability. \\nAI and Neuroscience \\nThe intersection of AI and neuroscience is a promising area of research. Understanding the \\nhuman brain can inspire new AI algorithms and architectures, while AI can provide insights into \\nbrain function and cognition. \\nAI Safety and Security \\nEnsuring the safety and security of AI systems is a critical area of research. This includes \\ndeveloping methods for verifying AI behavior, mitigating risks, and preventing unintended \\nconsequences. \\nHuman-Centered AI \\nHuman-centered AI focuses on developing AI systems that are aligned with human values, \\nenhance human capabilities, and promote well-being. This involves considering ethical, social, \\nand psychological aspects of AI development and deployment. \\n \\n \\nChapter 16: AI and the Arts \\nGenerative AI and Creativity \\nGenerative AI models, such as Generative Adversarial Networks (GANs) and transformers, are \\ncapable of creating original content, including images, text, and music. These models are pushing \\nthe boundaries of AI-driven creativity and opening up new possibilities for artistic expression. \\nAI as a Collaborative Partner \\nAI is increasingly used as a collaborative partner for artists and designers. AI tools can assist with \\ntasks such as ideation, prototyping, and refinement, enhancing the creative process and \\nenabling new forms of expression. \\nAI in Music and Sound Design \\nAI is transforming music and sound design by enabling new forms of composition, performance, \\nand production. AI-powered tools can generate melodies, harmonies, and rhythms, create \\ninteractive musical experiences, and assist with audio mixing and mastering. \\nAI in Visual Arts and Design \\nAI is used in visual arts and design to generate images, create animations, and assist with design \\nprocesses. AI-powered tools can create realistic images, generate design variations, and \\nautomate repetitive tasks, freeing up artists to focus on creative exploration. \\nAI and Interactive Media \\nAI is enhancing interactive media, such as video games and virtual reality experiences, by \\nenabling more realistic and engaging interactions. AI-powered characters, dynamic \\nenvironments, and personalized content create immersive and adaptive experiences. \\nChapter 17: AI and the Environment \\nClimate Change Mitigation \\nAI is used to mitigate climate change by optimizing energy consumption, improving renewable \\nenergy integration, and supporting carbon capture and storage. AI-powered systems analyze \\ndata, predict climate impacts, and inform mitigation strategies. \\nPrecision Agriculture \\nAI enhances precision agriculture by monitoring crops, optimizing resource use, and predicting \\nyields. AI-powered tools improve farming practices, reduce environmental impact, and enhance \\nfood security. \\nWildlife Conservation \\nAI is used in wildlife conservation to monitor populations, track movements, and detect poaching \\nactivities. AI-powered systems analyze data from sensors, cameras, and drones, providing \\ninsights that support conservation efforts. \\n \\n \\nEnvironmental Monitoring \\nAI-powered environmental monitoring systems track air and water quality, detect pollution, and \\nsupport environmental protection efforts. These systems provide real-time data, identify \\npollution sources, and inform environmental policies. \\nDisaster Response \\nAI enhances disaster response by analyzing data, predicting impacts, and supporting relief \\nefforts. AI-powered systems improve situational awareness, optimize resource allocation, and \\nenhance coordination among responders. \\nChapter 18: The Role of Government and Policy in AI \\nAI Strategy and Policy Frameworks \\nGovernments around the world are developing AI strategies and policy frameworks to guide the \\ndevelopment and deployment of AI. These frameworks address ethical considerations, promote \\ninnovation, and ensure responsible AI practices. \\nRegulation of AI \\nThe regulation of AI is a complex and evolving area. Governments are considering regulations to \\naddress issues such as bias, transparency, privacy, and safety. Balancing innovation with ethical \\nconsiderations is a key challenge. \\nFunding for AI Research and Development \\nGovernments play a crucial role in funding AI research and development. Public funding supports \\nbasic research, applied research, and the development of AI infrastructure. Government \\ninvestments drive innovation and foster collaboration. \\nInternational Cooperation \\nInternational cooperation is essential for addressing the global challenges and opportunities \\npresented by AI. This includes sharing knowledge, developing standards, and promoting \\nresponsible AI practices across borders. \\nPublic Engagement and Education \\nEngaging the public in discussions about AI is crucial for building trust and ensuring that AI \\ndevelopment aligns with societal values. Education and awareness campaigns inform the public \\nabout AI, its impacts, and its potential. \\nChapter 19: AI and Ethics \\nPrinciples of Ethical AI \\nEthical AI principles guide the development and deployment of AI systems to ensure they are fair, \\ntransparent, accountable, and beneficial to society. Key principles include respect for human \\nrights, privacy, non-discrimination, and beneficence. \\n \\n \\nAddressing Bias in AI \\nAI systems can inherit and amplify biases present in the data they are trained on, leading to unfair \\nor discriminatory outcomes. Addressing bias requires careful data collection, algorithm design, \\nand ongoing monitoring and evaluation. \\nTransparency and Explainability \\nTransparency and explainability are essential for building trust in AI systems. Explainable AI (XAI) \\ntechniques aim to make AI decisions more understandable, enabling users to assess their \\nfairness and accuracy. \\nPrivacy and Data Protection \\nAI systems often rely on large amounts of data, raising concerns about privacy and data \\nprotection. Ensuring responsible data handling, implementing privacy-preserving techniques, \\nand complying with data protection regulations are crucial. \\nAccountability and Responsibility \\nEstablishing accountability and responsibility for AI systems is essential for addressing potential \\nharms and ensuring ethical behavior. This includes defining roles and responsibilities for \\ndevelopers, deployers, and users of AI systems. \\nChapter 20: Building Trust in AI \\nTransparency and Explainability \\nTransparency and explainability are key to building trust in AI. Making AI systems understandable \\nand providing insights into their decision-making processes helps users assess their reliability \\nand fairness. \\nRobustness and Reliability \\nEnsuring that AI systems are robust and reliable is essential for building trust. This includes \\ntesting and validating AI models, monitoring their performance, and addressing potential \\nvulnerabilities. \\nUser Control and Agency \\nEmpowering users with control over AI systems and providing them with agency in their \\ninteractions with AI enhances trust. This includes allowing users to customize AI settings, \\nunderstand how their data is used, and opt out of AI-driven features. \\nEthical Design and Development \\nIncorporating ethical considerations into the design and development of AI systems is crucial for \\nbuilding trust. This includes conducting ethical impact assessments, engaging stakeholders, and \\nadhering to ethical guidelines and standards. \\nPublic Engagement and Education \\nEngaging the public in discussions about AI and educating them about its capabilities, \\nlimitations, and ethical implications helps build trust. Public awareness campaigns, educational \\ninitiatives, and open dialogue foster informed understanding and acceptance. \\nChapter 21: The Path Forward for AI \\nContinued Research and Innovation \\nContinued research and innovation are essential for advancing AI capabilities, addressing its \\nchallenges, and realizing its full potential. This includes investing in basic research, applied \\nresearch, and the development of new AI technologies and applications. \\nResponsible Development and Deployment \\nResponsible development and deployment of AI are crucial for ensuring its benefits are widely \\nshared and its risks are mitigated. This involves adhering to ethical principles, promoting fairness \\nand transparency, and protecting human rights and values. \\nGlobal Collaboration and Cooperation \\nGlobal collaboration and cooperation are essential for addressing the global challenges and \\nopportunities presented by AI. This includes sharing knowledge, developing standards, and \\npromoting responsible AI practices across borders. \\nEducation and Workforce Development \\nPreparing the workforce for the future of AI requires education and training initiatives that equip \\nindividuals with the skills needed to work with AI systems and adapt to new job roles. This \\nincludes promoting STEM education, providing reskilling and upskilling opportunities, and \\nfostering lifelong learning. \\nA Human-Centered Approach \\nA human-centered approach to AI focuses on developing AI systems that enhance human \\ncapabilities, promote well-being, and align with human values. This involves considering the \\nethical, social, and psychological impacts of AI and prioritizing human needs and interests. \\nBy embracing these principles and working together, we can harness the transformative potential \\nof AI to create a more innovative, equitable, and sustainable future. The path forward requires \\ndedication, collaboration, and a commitment to responsible AI development and deployment. \\n \\n'"
      ]
     },
     "execution_count": 4,
     "metadata": {},
     "output_type": "execute_result"
    }
   ],
   "source": [
    "extracted_text"
   ]
  },
  {
   "cell_type": "code",
   "execution_count": null,
   "id": "8d724532",
   "metadata": {},
   "outputs": [
    {
     "data": {
      "text/plain": [
       "['Understanding Artificial Intelligence \\nChapter 1: Introduction to Artificial Intelligence \\nArtificial intelligence (AI) refers to the ability of a digital computer or computer-controlled robot \\nto perform tasks commonly associated with intelligent beings. The term is frequently applied to \\nthe project of developing systems endowed with the intellectual processes characteristic of \\nhumans, such as the ability to reason, discover meaning, generalize, or learn from past \\nexperience. Over the past few decades, advancements in computing power and data availability \\nhave significantly accelerated the development and deployment of AI. \\nHistorical Context \\nThe idea of artificial intelligence has existed for centuries, often depicted in myths and fiction. \\nHowever, the formal field of AI research began in the mid-20th century. The Dartmouth Workshop \\nin 1956 is widely considered the birthplace of AI. Early AI research focused on problem-solving \\nand symbolic methods. The 1980s saw a rise in exp',\n",
       " 'egan in the mid-20th century. The Dartmouth Workshop \\nin 1956 is widely considered the birthplace of AI. Early AI research focused on problem-solving \\nand symbolic methods. The 1980s saw a rise in expert systems, while the 1990s and 2000s \\nbrought advancements in machine learning and neural networks. Recent breakthroughs in deep \\nlearning have revolutionized the field. \\nModern Observations \\nModern AI systems are increasingly prevalent in everyday life. From virtual assistants like Siri and \\nAlexa to recommendation algorithms on streaming services and social media, AI is impacting \\nhow we live, work, and interact. The development of self-driving cars, advanced medical \\ndiagnostics, and sophisticated financial modeling tools demonstrates the broad and growing \\napplications of AI. Concerns about ethical implications, bias, and job displacement are also \\nincreasingly prominent. \\nChapter 2: Core Concepts of Artificial Intelligence \\nMachine Learning \\nMachine learning (ML) is a subset of AI t',\n",
       " 'out ethical implications, bias, and job displacement are also \\nincreasingly prominent. \\nChapter 2: Core Concepts of Artificial Intelligence \\nMachine Learning \\nMachine learning (ML) is a subset of AI that focuses on enabling systems to learn from data \\nwithout being explicitly programmed. ML algorithms identify patterns, make predictions, and \\nimprove their performance over time as they are exposed to more data. \\nSupervised Learning \\nIn supervised learning, algorithms are trained on labeled data, where the input data is paired with \\nthe correct output. This allows the algorithm to learn the relationship between inputs and outputs \\nand make predictions on new, unseen data. Examples include image classification and spam \\ndetection. \\nUnsupervised Learning \\nUnsupervised learning algorithms are trained on unlabeled data, where the algorithm must \\ndiscover patterns and structures in the data without explicit guidance. Common techniques \\ninclude clustering (grouping similar data points) and di',\n",
       " 'trained on unlabeled data, where the algorithm must \\ndiscover patterns and structures in the data without explicit guidance. Common techniques \\ninclude clustering (grouping similar data points) and dimensionality reduction (reducing the \\nnumber of variables while preserving important information). \\n \\nReinforcement Learning \\nReinforcement learning involves training an agent to make decisions in an environment to \\nmaximize a reward. The agent learns through trial and error, receiving feedback in the form of \\nrewards or penalties. This approach is used in game playing, robotics, and resource \\nmanagement. \\nDeep Learning \\nDeep learning is a subfield of machine learning that uses artificial neural networks with multiple \\nlayers (deep neural networks) to analyze data. These networks are inspired by the structure and \\nfunction of the human brain. Deep learning has achieved significant breakthroughs in areas such \\nas image recognition, natural language processing, and speech recognition. \\nConvo',\n",
       " 'by the structure and \\nfunction of the human brain. Deep learning has achieved significant breakthroughs in areas such \\nas image recognition, natural language processing, and speech recognition. \\nConvolutional Neural Networks (CNNs) \\nCNNs are a type of deep neural network particularly effective for processing images and videos. \\nThey use convolutional layers to automatically learn features from the input data. CNNs are \\nwidely used in object detection, facial recognition, and medical image analysis. \\nRecurrent Neural Networks (RNNs) \\nRNNs are designed to process sequential data, such as text and time series. They have feedback \\nconnections that allow information to persist over time, making them suitable for tasks like \\nlanguage translation, speech recognition, and sentiment analysis. \\nNatural Language Processing (NLP) \\nNatural Language Processing (NLP) is a branch of AI that focuses on enabling computers to \\nunderstand, interpret, and generate human language. NLP techniques are used in',\n",
       " 'ral Language Processing (NLP) \\nNatural Language Processing (NLP) is a branch of AI that focuses on enabling computers to \\nunderstand, interpret, and generate human language. NLP techniques are used in chatbots, \\nmachine translation, text summarization, and sentiment analysis. \\nComputer Vision \\nComputer vision is a field of AI that enables computers to \"see\" and interpret images and videos. \\nThis involves tasks such as object detection, image segmentation, and facial recognition. \\nComputer vision is used in self-driving cars, medical imaging, and surveillance systems. \\nChapter 3: Applications of Artificial Intelligence \\nThe applications of AI are vast and continue to expand across various industries and domains. \\nThese applications include: \\nHealthcare \\nAI is transforming healthcare through applications such as medical diagnosis, drug discovery, \\npersonalized medicine, and robotic surgery. AI-powered tools can analyze medical images, \\npredict patient outcomes, and assist in treatment pl',\n",
       " ' applications such as medical diagnosis, drug discovery, \\npersonalized medicine, and robotic surgery. AI-powered tools can analyze medical images, \\npredict patient outcomes, and assist in treatment planning. \\nFinance \\nIn finance, AI is used for fraud detection, algorithmic trading, risk management, and customer \\nservice. AI algorithms can analyze large datasets to identify patterns, predict market trends, and \\nautomate financial processes. \\n \\nTransportation \\nAI is revolutionizing transportation with the development of self-driving cars, traffic optimization \\nsystems, and logistics management. Autonomous vehicles use AI to perceive their surroundings, \\nmake driving decisions, and navigate safely. \\nRetail \\nThe retail industry uses AI for personalized recommendations, inventory management, customer \\nservice chatbots, and supply chain optimization. AI-powered systems can analyze customer data \\nto predict demand, personalize offers, and improve the shopping experience. \\nManufacturing \\nAI is',\n",
       " 'stomer \\nservice chatbots, and supply chain optimization. AI-powered systems can analyze customer data \\nto predict demand, personalize offers, and improve the shopping experience. \\nManufacturing \\nAI is used in manufacturing for predictive maintenance, quality control, process optimization, \\nand robotics. AI-powered systems can monitor equipment, detect anomalies, and automate \\ntasks, leading to increased efficiency and reduced costs. \\nEducation \\nAI is enhancing education through personalized learning platforms, automated grading systems, \\nand virtual tutors. AI-powered tools can adapt to individual student needs, provide feedback, and \\ncreate customized learning experiences. \\nEntertainment \\nThe entertainment industry uses AI for content recommendation, game development, and virtual \\nreality experiences. AI algorithms analyze user preferences to suggest movies, music, and \\ngames, enhancing user engagement. \\nCybersecurity \\nAI is used in cybersecurity to detect and respond to threats, anal',\n",
       " ' experiences. AI algorithms analyze user preferences to suggest movies, music, and \\ngames, enhancing user engagement. \\nCybersecurity \\nAI is used in cybersecurity to detect and respond to threats, analyze network traffic, and identify \\nvulnerabilities. AI-powered systems can automate security tasks, improve threat detection \\naccuracy, and enhance overall cybersecurity posture. \\nChapter 4: Ethical and Societal Implications of AI \\nThe rapid development and deployment of AI raise significant ethical and societal concerns. \\nThese concerns include: \\nBias and Fairness \\nAI systems can inherit and amplify biases present in the data they are trained on, leading to unfair \\nor discriminatory outcomes. Ensuring fairness and mitigating bias in AI systems is a critical \\nchallenge. \\nTransparency and Explainability \\nMany AI systems, particularly deep learning models, are \"black boxes,\" making it difficult to \\nunderstand how they arrive at their decisions. Enhancing transparency and explainability is \\nc',\n",
       " 'inability \\nMany AI systems, particularly deep learning models, are \"black boxes,\" making it difficult to \\nunderstand how they arrive at their decisions. Enhancing transparency and explainability is \\ncrucial for building trust and accountability. \\n \\n \\nPrivacy and Security \\nAI systems often rely on large amounts of data, raising concerns about privacy and data security. \\nProtecting sensitive information and ensuring responsible data handling are essential. \\nJob Displacement \\nThe automation capabilities of AI have raised concerns about job displacement, particularly in \\nindustries with repetitive or routine tasks. Addressing the potential economic and social impacts \\nof AI-driven automation is a key challenge. \\nAutonomy and Control \\nAs AI systems become more autonomous, questions arise about control, accountability, and the \\npotential for unintended consequences. Establishing clear guidelines and ethical frameworks for \\nAI development and deployment is crucial. \\nWeaponization of AI \\nThe p',\n",
       " 'control, accountability, and the \\npotential for unintended consequences. Establishing clear guidelines and ethical frameworks for \\nAI development and deployment is crucial. \\nWeaponization of AI \\nThe potential use of AI in autonomous weapons systems raises significant ethical and security \\nconcerns. International discussions and regulations are needed to address the risks associated \\nwith AI-powered weapons. \\nChapter 5: The Future of Artificial Intelligence \\nThe future of AI is likely to be characterized by continued advancements and broader adoption \\nacross various domains. Key trends and areas of development include: \\nExplainable AI (XAI) \\nExplainable AI (XAI) aims to make AI systems more transparent and understandable. XAI \\ntechniques are being developed to provide insights into how AI models make decisions, \\nenhancing trust and accountability. \\nAI at the Edge \\nAI at the edge involves processing data locally on devices, rather than relying on cloud-based \\nservers. This approach reduc',\n",
       " 'odels make decisions, \\nenhancing trust and accountability. \\nAI at the Edge \\nAI at the edge involves processing data locally on devices, rather than relying on cloud-based \\nservers. This approach reduces latency, improves privacy, and enables AI applications in \\nenvironments with limited connectivity. \\nQuantum Computing and AI \\nQuantum computing has the potential to significantly accelerate AI algorithms, enabling \\nbreakthroughs in areas such as drug discovery, materials science, and optimization. The \\nintersection of quantum computing and AI is a promising area of research. \\nHuman-AI Collaboration \\nThe future of AI is likely to involve increased collaboration between humans and AI systems. This \\nincludes developing AI tools that augment human capabilities, support decision-making, and \\nenhance productivity. \\n \\n \\n \\nAI for Social Good \\nAI is increasingly being used to address social and environmental challenges, such as climate \\nchange, poverty, and healthcare disparities. AI for social ',\n",
       " 'ance productivity. \\n \\n \\n \\nAI for Social Good \\nAI is increasingly being used to address social and environmental challenges, such as climate \\nchange, poverty, and healthcare disparities. AI for social good initiatives aim to leverage AI for \\npositive impact. \\nRegulation and Governance \\nAs AI becomes more pervasive, there will be a growing need for regulation and governance to \\nensure responsible development and deployment. This includes establishing ethical guidelines, \\naddressing \\nbias \\nand \\nfairness, \\nand \\nprotecting \\nprivacy \\nand \\nsecurity. \\nInternational collaborations on standards will be important. \\nBy understanding the core concepts, applications, ethical implications, and future directions of \\nAI, we can better navigate the opportunities and challenges presented by this transformative \\ntechnology. Continued research, responsible development, and thoughtful governance are \\nessential for realizing the full potential of AI while mitigating its risks. \\nChapter 6: AI and Robotics \\nIn',\n",
       " 've \\ntechnology. Continued research, responsible development, and thoughtful governance are \\nessential for realizing the full potential of AI while mitigating its risks. \\nChapter 6: AI and Robotics \\nIntegration of AI and Robotics \\nThe integration of AI and robotics combines the physical capabilities of robots with the cognitive \\nabilities of AI. This synergy enables robots to perform complex tasks, adapt to changing \\nenvironments, and interact with humans more naturally. AI-powered robots are used in \\nmanufacturing, healthcare, logistics, and exploration. \\nTypes of Robots \\nIndustrial Robots \\nIndustrial robots are used in manufacturing for tasks such as welding, painting, assembly, and \\nmaterial handling. AI enhances their precision, efficiency, and adaptability, allowing them to work \\nalongside humans in collaborative settings (cobots). \\nService Robots \\nService robots assist humans in various tasks, including cleaning, delivery, customer service, and \\nhealthcare. AI enables these robots',\n",
       " 'side humans in collaborative settings (cobots). \\nService Robots \\nService robots assist humans in various tasks, including cleaning, delivery, customer service, and \\nhealthcare. AI enables these robots to navigate, interact with people, and perform tasks \\nautonomously or semi-autonomously. \\nSurgical Robots \\nSurgical robots assist surgeons in performing complex procedures with greater precision and \\ncontrol. AI-powered surgical robots can enhance dexterity, reduce invasiveness, and improve \\npatient outcomes. \\nExploration Robots \\nExploration robots are designed to operate in hazardous or inaccessible environments, such as \\nspace, deep sea, and disaster zones. AI enables these robots to navigate, collect data, and make \\ndecisions autonomously. \\n \\n \\nRobot Learning \\nImitation Learning \\nImitation learning involves training robots to perform tasks by observing human demonstrations. \\nThis approach allows robots to learn complex behaviors without explicit programming. \\nReinforcement Learning for',\n",
       " ' learning involves training robots to perform tasks by observing human demonstrations. \\nThis approach allows robots to learn complex behaviors without explicit programming. \\nReinforcement Learning for Robots \\nReinforcement learning is used to train robots to perform tasks through trial and error, receiving \\nrewards for successful actions. This approach enables robots to adapt to changing environments \\nand optimize their performance over time. \\nRobot Navigation and Perception \\nSLAM (Simultaneous Localization and Mapping) \\nSLAM technology enables robots to build a map of an unknown environment while \\nsimultaneously keeping track of their location within that map. This is crucial for autonomous \\nnavigation in dynamic environments. \\nComputer Vision for Robots \\nComputer vision provides robots with the ability to \"see\" and interpret their surroundings. This \\nincludes object recognition, scene understanding, and obstacle avoidance. \\nChapter 7: AI in Business and Industry \\nTransforming Busines',\n",
       " 'ith the ability to \"see\" and interpret their surroundings. This \\nincludes object recognition, scene understanding, and obstacle avoidance. \\nChapter 7: AI in Business and Industry \\nTransforming Business Operations \\nAI is transforming business operations across various industries, leading to increased efficiency, \\nreduced costs, and improved decision-making. AI-powered tools automate tasks, analyze data, \\nand provide insights that drive business growth. \\nCustomer Relationship Management (CRM) \\nAI enhances CRM systems by providing personalized customer experiences, predicting customer \\nbehavior, and automating customer service interactions. AI-powered chatbots, recommendation \\nengines, and sentiment analysis tools improve customer engagement and satisfaction. \\nSupply Chain Management \\nAI optimizes supply chain operations by predicting demand, managing inventory, and \\nstreamlining logistics. AI-powered systems improve forecasting accuracy, reduce waste, and \\nenhance supply chain resilience',\n",
       " 'mizes supply chain operations by predicting demand, managing inventory, and \\nstreamlining logistics. AI-powered systems improve forecasting accuracy, reduce waste, and \\nenhance supply chain resilience. \\nHuman Resources (HR) \\nAI is used in HR for talent acquisition, employee onboarding, performance management, and \\ntraining. AI-powered tools automate recruitment processes, personalize training programs, and \\nprovide insights into employee engagement and retention. \\nMarketing and Sales \\nAI enhances marketing and sales efforts by analyzing customer data, personalizing marketing \\ncampaigns, and predicting sales trends. AI-powered tools improve targeting, optimize ad \\nspending, and enhance customer segmentation. \\nFinancial Services \\nAI is used in financial services for fraud detection, risk management, algorithmic trading, and \\ncustomer service. AI-powered systems analyze large datasets to identify patterns, predict market \\nmovements, and automate financial processes. \\nChapter 8: AI and the',\n",
       " 'agement, algorithmic trading, and \\ncustomer service. AI-powered systems analyze large datasets to identify patterns, predict market \\nmovements, and automate financial processes. \\nChapter 8: AI and the Future of Work \\nAutomation and Job Displacement \\nThe increasing capabilities of AI raise concerns about job displacement, particularly in industries \\nwith repetitive or routine tasks. While AI may automate some jobs, it also creates new \\nopportunities and transforms existing roles. \\nReskilling and Upskilling \\nAddressing the potential impacts of AI on the workforce requires reskilling and upskilling \\ninitiatives. These programs equip workers with the skills needed to adapt to new roles and \\ncollaborate with AI systems. \\nHuman-AI Collaboration \\nThe future of work is likely to involve increased collaboration between humans and AI systems. AI \\ntools can augment human capabilities, automate mundane tasks, and provide insights that \\nsupport decision-making. \\nNew Job Roles \\nThe development and d',\n",
       " 'collaboration between humans and AI systems. AI \\ntools can augment human capabilities, automate mundane tasks, and provide insights that \\nsupport decision-making. \\nNew Job Roles \\nThe development and deployment of AI create new job roles in areas such as AI development, \\ndata science, AI ethics, and AI training. These roles require specialized skills and expertise. \\nEthical Considerations \\nAddressing the ethical implications of AI in the workplace is crucial. This includes ensuring \\nfairness, transparency, and accountability in AI systems, as well as protecting worker rights and \\nprivacy. \\nChapter 9: AI, Creativity, and Innovation \\nAI as a Creative Tool \\nAI is increasingly being used as a tool for creativity and innovation. AI-powered systems can \\ngenerate art, music, and literature, assist in design processes, and accelerate scientific \\ndiscovery. \\nAI-Generated Art \\nAI algorithms can create original works of art, including paintings, drawings, and sculptures. \\nThese systems learn from ',\n",
       " ' in design processes, and accelerate scientific \\ndiscovery. \\nAI-Generated Art \\nAI algorithms can create original works of art, including paintings, drawings, and sculptures. \\nThese systems learn from existing art and generate new pieces that exhibit unique styles and \\npatterns. \\nAI in Music Composition \\nAI is used to compose music, generate melodies, and create arrangements. AI-powered tools can \\nassist musicians in the creative process, offering new possibilities for musical expression. \\nAI in Writing and Content Creation \\nAI is used to write articles, generate content, and create scripts. AI-powered writing tools can \\nassist writers with research, editing, and content generation, enhancing productivity and \\ncreativity. \\nAI-Driven Innovation \\nAI accelerates innovation by analyzing large datasets, identifying patterns, and generating new \\nideas. AI-powered tools are used in research and development, product design, and problem-\\nsolving across various industries. \\nChapter 10: AI and Edu',\n",
       " 'atasets, identifying patterns, and generating new \\nideas. AI-powered tools are used in research and development, product design, and problem-\\nsolving across various industries. \\nChapter 10: AI and Education \\nPersonalized Learning \\nAI enables personalized learning experiences by adapting to individual student needs and \\nlearning styles. AI-powered platforms provide customized content, feedback, and pacing, \\nenhancing student engagement and outcomes. \\nAdaptive Assessments \\nAI-powered assessments adjust the difficulty of questions based on student performance, \\nproviding a more accurate measure of knowledge and skills. Adaptive assessments can also \\nidentify learning gaps and inform instructional strategies. \\nVirtual Tutors and Learning Assistants \\nAI-powered virtual tutors and learning assistants provide personalized support to students, \\nanswering questions, offering guidance, and tracking progress. These tools enhance access to \\neducation and improve learning outcomes. \\nAutomated Gradi',\n",
       " 'tants provide personalized support to students, \\nanswering questions, offering guidance, and tracking progress. These tools enhance access to \\neducation and improve learning outcomes. \\nAutomated Grading and Feedback \\nAI automates grading and feedback processes, saving educators time and providing timely \\nfeedback to students. AI-powered systems can assess essays, assignments, and exams, \\nidentifying areas for improvement. \\nEducational Data Mining \\nEducational data mining uses AI to analyze student data, identify patterns, and predict learning \\noutcomes. This information can inform instructional strategies, improve educational programs, \\nand enhance student support services. \\n \\nChapter 11: AI and Healthcare \\nMedical Diagnosis and Treatment \\nAI is revolutionizing medical diagnosis and treatment by analyzing medical images, predicting \\npatient outcomes, and assisting in treatment planning. AI-powered tools enhance accuracy, \\nefficiency, and patient care. \\nDrug Discovery and Development \\nA',\n",
       " 'ent by analyzing medical images, predicting \\npatient outcomes, and assisting in treatment planning. AI-powered tools enhance accuracy, \\nefficiency, and patient care. \\nDrug Discovery and Development \\nAI accelerates drug discovery and development by analyzing biological data, predicting drug \\nefficacy, and identifying potential drug candidates. AI-powered systems reduce the time and cost \\nof bringing new treatments to market. \\nPersonalized Medicine \\nAI enables personalized medicine by analyzing individual patient data, predicting treatment \\nresponses, and tailoring interventions. Personalized medicine enhances treatment effectiveness \\nand reduces adverse effects. \\nRobotic Surgery \\nAI-powered robotic surgery systems assist surgeons in performing complex procedures with \\ngreater precision and control. These systems enhance dexterity, reduce invasiveness, and \\nimprove patient outcomes. \\nHealthcare Administration \\nAI streamlines healthcare administration by automating tasks, managing patient',\n",
       " 'control. These systems enhance dexterity, reduce invasiveness, and \\nimprove patient outcomes. \\nHealthcare Administration \\nAI streamlines healthcare administration by automating tasks, managing patient records, and \\noptimizing workflows. AI-powered systems improve efficiency, reduce costs, and enhance \\npatient experience. \\nChapter 12: AI and Cybersecurity \\nThreat Detection and Prevention \\nAI enhances cybersecurity by detecting and preventing threats, analyzing network traffic, and \\nidentifying vulnerabilities. AI-powered systems automate security tasks, improve threat \\ndetection accuracy, and enhance overall cybersecurity posture. \\nAnomaly Detection \\nAI-powered anomaly detection systems identify unusual patterns and behaviors that may \\nindicate a security threat. These systems provide real-time alerts and support rapid response to \\nsecurity incidents. \\nFraud Detection \\nAI is used in fraud detection to analyze transactions, identify suspicious activities, and prevent \\nfraudulent actions.',\n",
       " 'time alerts and support rapid response to \\nsecurity incidents. \\nFraud Detection \\nAI is used in fraud detection to analyze transactions, identify suspicious activities, and prevent \\nfraudulent actions. AI-powered systems improve accuracy, reduce false positives, and enhance \\nfraud prevention measures. \\nVulnerability Management \\nAI helps manage vulnerabilities by identifying and prioritizing security weaknesses in systems and \\nnetworks. AI-powered tools automate vulnerability scanning, assessment, and remediation, \\nreducing the risk of cyberattacks. \\nIncident Response \\nAI enhances incident response by automating tasks, analyzing data, and providing insights that \\nsupport rapid and effective response to security incidents. AI-powered systems improve \\nresponse time, minimize damage, and enhance recovery efforts. \\nChapter 13: The Social Impact of AI \\nAddressing Societal Challenges \\nAI has the potential to address significant societal challenges, such as climate change, poverty, \\nand healthc',\n",
       " 'e recovery efforts. \\nChapter 13: The Social Impact of AI \\nAddressing Societal Challenges \\nAI has the potential to address significant societal challenges, such as climate change, poverty, \\nand healthcare disparities. AI-powered solutions can improve resource management, enhance \\ndecision-making, and support sustainable development. \\nAI for Social Good \\nAI for social good initiatives leverage AI to tackle social and environmental problems. These \\nprojects focus on using AI to improve access to education, healthcare, and social services, \\npromoting equity and well-being. \\nEthical Considerations \\nAddressing the ethical implications of AI is crucial for ensuring its positive social impact. This \\nincludes promoting fairness, transparency, and accountability in AI systems, as well as protecting \\nprivacy and human rights. \\nPublic Perception and Trust \\nPublic perception and trust in AI are essential for its widespread adoption and positive social \\nimpact. Building trust requires transparency, ',\n",
       " '\\nprivacy and human rights. \\nPublic Perception and Trust \\nPublic perception and trust in AI are essential for its widespread adoption and positive social \\nimpact. Building trust requires transparency, explainability, and responsible development and \\ndeployment of AI systems. \\nGlobal Collaboration \\nAddressing the social impact of AI requires global collaboration and cooperation. This includes \\nsharing knowledge, developing standards, and promoting responsible AI practices across \\nborders. \\nChapter 14: AI and Smart Cities \\nUrban Planning and Management \\nAI enhances urban planning and management by analyzing data, optimizing resource allocation, \\nand improving city services. AI-powered systems support sustainable urban development, \\nenhance quality of life, and promote efficient city operations. \\nSmart Transportation \\nAI-powered smart transportation systems optimize traffic flow, reduce congestion, and enhance \\npublic transit. These systems use real-time data to manage traffic signals, pro',\n",
       " 's. \\nSmart Transportation \\nAI-powered smart transportation systems optimize traffic flow, reduce congestion, and enhance \\npublic transit. These systems use real-time data to manage traffic signals, provide route \\nrecommendations, and support autonomous vehicles. \\nEnergy Management \\nAI optimizes energy management in smart cities by predicting demand, managing supply, and \\npromoting energy efficiency. AI-powered systems enhance grid stability, reduce energy waste, \\nand support the integration of renewable energy sources. \\nPublic Safety and Security \\nAI enhances public safety and security in smart cities by monitoring public spaces, detecting \\nanomalies, and supporting emergency response. AI-powered systems improve crime prevention, \\nenhance situational awareness, and support rapid response to incidents. \\nEnvironmental Monitoring \\nAI-powered environmental monitoring systems track air and water quality, detect pollution, and \\nsupport environmental protection efforts. These systems provide r',\n",
       " ' incidents. \\nEnvironmental Monitoring \\nAI-powered environmental monitoring systems track air and water quality, detect pollution, and \\nsupport environmental protection efforts. These systems provide real-time data, identify \\npollution sources, and inform environmental policies. \\nChapter 15: The Future of AI Research \\nAdvancements in Deep Learning \\nContinued advancements in deep learning are expected to drive further breakthroughs in AI. \\nResearch is focused on developing more efficient and interpretable deep learning models, as well \\nas exploring new architectures and training techniques. \\nExplainable AI (XAI) \\nExplainable AI (XAI) aims to make AI systems more transparent and understandable. Research in \\nXAI focuses on developing methods for explaining AI decisions, enhancing trust, and improving \\naccountability. \\nAI and Neuroscience \\nThe intersection of AI and neuroscience is a promising area of research. Understanding the \\nhuman brain can inspire new AI algorithms and architectures, ',\n",
       " 'proving \\naccountability. \\nAI and Neuroscience \\nThe intersection of AI and neuroscience is a promising area of research. Understanding the \\nhuman brain can inspire new AI algorithms and architectures, while AI can provide insights into \\nbrain function and cognition. \\nAI Safety and Security \\nEnsuring the safety and security of AI systems is a critical area of research. This includes \\ndeveloping methods for verifying AI behavior, mitigating risks, and preventing unintended \\nconsequences. \\nHuman-Centered AI \\nHuman-centered AI focuses on developing AI systems that are aligned with human values, \\nenhance human capabilities, and promote well-being. This involves considering ethical, social, \\nand psychological aspects of AI development and deployment. \\n \\n \\nChapter 16: AI and the Arts \\nGenerative AI and Creativity \\nGenerative AI models, such as Generative Adversarial Networks (GANs) and transformers, are \\ncapable of creating original content, including images, text, and music. These models are ',\n",
       " 'I and Creativity \\nGenerative AI models, such as Generative Adversarial Networks (GANs) and transformers, are \\ncapable of creating original content, including images, text, and music. These models are pushing \\nthe boundaries of AI-driven creativity and opening up new possibilities for artistic expression. \\nAI as a Collaborative Partner \\nAI is increasingly used as a collaborative partner for artists and designers. AI tools can assist with \\ntasks such as ideation, prototyping, and refinement, enhancing the creative process and \\nenabling new forms of expression. \\nAI in Music and Sound Design \\nAI is transforming music and sound design by enabling new forms of composition, performance, \\nand production. AI-powered tools can generate melodies, harmonies, and rhythms, create \\ninteractive musical experiences, and assist with audio mixing and mastering. \\nAI in Visual Arts and Design \\nAI is used in visual arts and design to generate images, create animations, and assist with design \\nprocesses. AI-',\n",
       " 'periences, and assist with audio mixing and mastering. \\nAI in Visual Arts and Design \\nAI is used in visual arts and design to generate images, create animations, and assist with design \\nprocesses. AI-powered tools can create realistic images, generate design variations, and \\nautomate repetitive tasks, freeing up artists to focus on creative exploration. \\nAI and Interactive Media \\nAI is enhancing interactive media, such as video games and virtual reality experiences, by \\nenabling more realistic and engaging interactions. AI-powered characters, dynamic \\nenvironments, and personalized content create immersive and adaptive experiences. \\nChapter 17: AI and the Environment \\nClimate Change Mitigation \\nAI is used to mitigate climate change by optimizing energy consumption, improving renewable \\nenergy integration, and supporting carbon capture and storage. AI-powered systems analyze \\ndata, predict climate impacts, and inform mitigation strategies. \\nPrecision Agriculture \\nAI enhances precision a',\n",
       " 'rgy integration, and supporting carbon capture and storage. AI-powered systems analyze \\ndata, predict climate impacts, and inform mitigation strategies. \\nPrecision Agriculture \\nAI enhances precision agriculture by monitoring crops, optimizing resource use, and predicting \\nyields. AI-powered tools improve farming practices, reduce environmental impact, and enhance \\nfood security. \\nWildlife Conservation \\nAI is used in wildlife conservation to monitor populations, track movements, and detect poaching \\nactivities. AI-powered systems analyze data from sensors, cameras, and drones, providing \\ninsights that support conservation efforts. \\n \\n \\nEnvironmental Monitoring \\nAI-powered environmental monitoring systems track air and water quality, detect pollution, and \\nsupport environmental protection efforts. These systems provide real-time data, identify \\npollution sources, and inform environmental policies. \\nDisaster Response \\nAI enhances disaster response by analyzing data, predicting impacts, an',\n",
       " 'forts. These systems provide real-time data, identify \\npollution sources, and inform environmental policies. \\nDisaster Response \\nAI enhances disaster response by analyzing data, predicting impacts, and supporting relief \\nefforts. AI-powered systems improve situational awareness, optimize resource allocation, and \\nenhance coordination among responders. \\nChapter 18: The Role of Government and Policy in AI \\nAI Strategy and Policy Frameworks \\nGovernments around the world are developing AI strategies and policy frameworks to guide the \\ndevelopment and deployment of AI. These frameworks address ethical considerations, promote \\ninnovation, and ensure responsible AI practices. \\nRegulation of AI \\nThe regulation of AI is a complex and evolving area. Governments are considering regulations to \\naddress issues such as bias, transparency, privacy, and safety. Balancing innovation with ethical \\nconsiderations is a key challenge. \\nFunding for AI Research and Development \\nGovernments play a crucial rol',\n",
       " 's issues such as bias, transparency, privacy, and safety. Balancing innovation with ethical \\nconsiderations is a key challenge. \\nFunding for AI Research and Development \\nGovernments play a crucial role in funding AI research and development. Public funding supports \\nbasic research, applied research, and the development of AI infrastructure. Government \\ninvestments drive innovation and foster collaboration. \\nInternational Cooperation \\nInternational cooperation is essential for addressing the global challenges and opportunities \\npresented by AI. This includes sharing knowledge, developing standards, and promoting \\nresponsible AI practices across borders. \\nPublic Engagement and Education \\nEngaging the public in discussions about AI is crucial for building trust and ensuring that AI \\ndevelopment aligns with societal values. Education and awareness campaigns inform the public \\nabout AI, its impacts, and its potential. \\nChapter 19: AI and Ethics \\nPrinciples of Ethical AI \\nEthical AI principl',\n",
       " 'nt aligns with societal values. Education and awareness campaigns inform the public \\nabout AI, its impacts, and its potential. \\nChapter 19: AI and Ethics \\nPrinciples of Ethical AI \\nEthical AI principles guide the development and deployment of AI systems to ensure they are fair, \\ntransparent, accountable, and beneficial to society. Key principles include respect for human \\nrights, privacy, non-discrimination, and beneficence. \\n \\n \\nAddressing Bias in AI \\nAI systems can inherit and amplify biases present in the data they are trained on, leading to unfair \\nor discriminatory outcomes. Addressing bias requires careful data collection, algorithm design, \\nand ongoing monitoring and evaluation. \\nTransparency and Explainability \\nTransparency and explainability are essential for building trust in AI systems. Explainable AI (XAI) \\ntechniques aim to make AI decisions more understandable, enabling users to assess their \\nfairness and accuracy. \\nPrivacy and Data Protection \\nAI systems often rely on la',\n",
       " 'systems. Explainable AI (XAI) \\ntechniques aim to make AI decisions more understandable, enabling users to assess their \\nfairness and accuracy. \\nPrivacy and Data Protection \\nAI systems often rely on large amounts of data, raising concerns about privacy and data \\nprotection. Ensuring responsible data handling, implementing privacy-preserving techniques, \\nand complying with data protection regulations are crucial. \\nAccountability and Responsibility \\nEstablishing accountability and responsibility for AI systems is essential for addressing potential \\nharms and ensuring ethical behavior. This includes defining roles and responsibilities for \\ndevelopers, deployers, and users of AI systems. \\nChapter 20: Building Trust in AI \\nTransparency and Explainability \\nTransparency and explainability are key to building trust in AI. Making AI systems understandable \\nand providing insights into their decision-making processes helps users assess their reliability \\nand fairness. \\nRobustness and Reliability \\n',\n",
       " 'to building trust in AI. Making AI systems understandable \\nand providing insights into their decision-making processes helps users assess their reliability \\nand fairness. \\nRobustness and Reliability \\nEnsuring that AI systems are robust and reliable is essential for building trust. This includes \\ntesting and validating AI models, monitoring their performance, and addressing potential \\nvulnerabilities. \\nUser Control and Agency \\nEmpowering users with control over AI systems and providing them with agency in their \\ninteractions with AI enhances trust. This includes allowing users to customize AI settings, \\nunderstand how their data is used, and opt out of AI-driven features. \\nEthical Design and Development \\nIncorporating ethical considerations into the design and development of AI systems is crucial for \\nbuilding trust. This includes conducting ethical impact assessments, engaging stakeholders, and \\nadhering to ethical guidelines and standards. \\nPublic Engagement and Education \\nEngaging th',\n",
       " 'rucial for \\nbuilding trust. This includes conducting ethical impact assessments, engaging stakeholders, and \\nadhering to ethical guidelines and standards. \\nPublic Engagement and Education \\nEngaging the public in discussions about AI and educating them about its capabilities, \\nlimitations, and ethical implications helps build trust. Public awareness campaigns, educational \\ninitiatives, and open dialogue foster informed understanding and acceptance. \\nChapter 21: The Path Forward for AI \\nContinued Research and Innovation \\nContinued research and innovation are essential for advancing AI capabilities, addressing its \\nchallenges, and realizing its full potential. This includes investing in basic research, applied \\nresearch, and the development of new AI technologies and applications. \\nResponsible Development and Deployment \\nResponsible development and deployment of AI are crucial for ensuring its benefits are widely \\nshared and its risks are mitigated. This involves adhering to ethical princ',\n",
       " 'e Development and Deployment \\nResponsible development and deployment of AI are crucial for ensuring its benefits are widely \\nshared and its risks are mitigated. This involves adhering to ethical principles, promoting fairness \\nand transparency, and protecting human rights and values. \\nGlobal Collaboration and Cooperation \\nGlobal collaboration and cooperation are essential for addressing the global challenges and \\nopportunities presented by AI. This includes sharing knowledge, developing standards, and \\npromoting responsible AI practices across borders. \\nEducation and Workforce Development \\nPreparing the workforce for the future of AI requires education and training initiatives that equip \\nindividuals with the skills needed to work with AI systems and adapt to new job roles. This \\nincludes promoting STEM education, providing reskilling and upskilling opportunities, and \\nfostering lifelong learning. \\nA Human-Centered Approach \\nA human-centered approach to AI focuses on developing AI syst',\n",
       " 'promoting STEM education, providing reskilling and upskilling opportunities, and \\nfostering lifelong learning. \\nA Human-Centered Approach \\nA human-centered approach to AI focuses on developing AI systems that enhance human \\ncapabilities, promote well-being, and align with human values. This involves considering the \\nethical, social, and psychological impacts of AI and prioritizing human needs and interests. \\nBy embracing these principles and working together, we can harness the transformative potential \\nof AI to create a more innovative, equitable, and sustainable future. The path forward requires \\ndedication, collaboration, and a commitment to responsible AI development and deployment. \\n \\n']"
      ]
     },
     "execution_count": 5,
     "metadata": {},
     "output_type": "execute_result"
    }
   ],
   "source": [
    "def chunk_text(text, n, overlap):\n",
    "    return [text[i:i+n] for i in range(0, len(text), n - overlap)]\n",
    "\n",
    "text_chunks = chunk_text(extracted_text, 1000, 200)"
   ]
  },
  {
   "cell_type": "code",
   "execution_count": 6,
   "id": "3b901000",
   "metadata": {},
   "outputs": [],
   "source": [
    "load_dotenv(\"../conf.env\")\n",
    "client = OpenAI(\n",
    "    api_key=os.getenv(\"GEMINI_API_KEY\"),\n",
    "    base_url=os.getenv(\"GEMINI_BASE_URL\")\n",
    ")"
   ]
  },
  {
   "cell_type": "code",
   "execution_count": 9,
   "id": "667ae931",
   "metadata": {},
   "outputs": [
    {
     "data": {
      "text/plain": [
       "(42,\n",
       " 'Understanding Artificial Intelligence \\nChapter 1: Introduction to Artificial Intelligence \\nArtificial intelligence (AI) refers to the ability of a digital computer or computer-controlled robot \\nto perform tasks commonly associated with intelligent beings. The term is frequently applied to \\nthe project of developing systems endowed with the intellectual processes characteristic of \\nhumans, such as the ability to reason, discover meaning, generalize, or learn from past \\nexperience. Over the past few decades, advancements in computing power and data availability \\nhave significantly accelerated the development and deployment of AI. \\nHistorical Context \\nThe idea of artificial intelligence has existed for centuries, often depicted in myths and fiction. \\nHowever, the formal field of AI research began in the mid-20th century. The Dartmouth Workshop \\nin 1956 is widely considered the birthplace of AI. Early AI research focused on problem-solving \\nand symbolic methods. The 1980s saw a rise in exp')"
      ]
     },
     "execution_count": 9,
     "metadata": {},
     "output_type": "execute_result"
    }
   ],
   "source": [
    "len(text_chunks), text_chunks[0]"
   ]
  },
  {
   "cell_type": "markdown",
   "id": "ff50ae91",
   "metadata": {},
   "source": [
    "### Create embeddings"
   ]
  },
  {
   "cell_type": "code",
   "execution_count": null,
   "id": "74995504",
   "metadata": {},
   "outputs": [],
   "source": [
    "device = torch.device(\"cuda\" if torch.cuda.is_available() else \"cpu\")\n",
    "model = AutoModel.from_pretrained(os.getenv(\"LOCAL_EMBED_EN\")).to(device)\n",
    "tokenizer = AutoTokenizer.from_pretrained(os.getenv(\"LOCAL_EMBED_EN\"))\n",
    "\n",
    "def embed(text): # return numpy.ndarray(n, x) \n",
    "    if isinstance(text, str): text = [text] # if single string => convert into a list of one element\n",
    "    inputs = tokenizer(text, padding=True, truncation=True, return_tensors=\"pt\").to(device) # tokenize input\n",
    "    with torch.no_grad(): \n",
    "        output = model(**inputs) # running model\n",
    "        embedding = F.normalize(output.last_hidden_state[:, 0, :], p=2, dim=1) # normalize vector to L2\n",
    "    return embedding.cpu().numpy() # pass to cpu with numpy array"
   ]
  },
  {
   "cell_type": "code",
   "execution_count": 24,
   "id": "cdc033cf",
   "metadata": {},
   "outputs": [
    {
     "data": {
      "text/plain": [
       "((42, 768), numpy.ndarray)"
      ]
     },
     "execution_count": 24,
     "metadata": {},
     "output_type": "execute_result"
    }
   ],
   "source": [
    "response = embed(text_chunks)\n",
    "response.shape, type(response)"
   ]
  },
  {
   "cell_type": "code",
   "execution_count": 46,
   "id": "7705c160",
   "metadata": {},
   "outputs": [
    {
     "data": {
      "text/plain": [
       "(768,)"
      ]
     },
     "execution_count": 46,
     "metadata": {},
     "output_type": "execute_result"
    }
   ],
   "source": [
    "response[0].shape # (x,)"
   ]
  },
  {
   "cell_type": "markdown",
   "id": "22eb3212",
   "metadata": {},
   "source": [
    "### Implementing Context-Aware Semantic Search"
   ]
  },
  {
   "cell_type": "code",
   "execution_count": null,
   "id": "680353f9",
   "metadata": {},
   "outputs": [],
   "source": [
    "def context_enriched_search(query, text_chunks, embeddings, k=1, context_size=1):\n",
    "    \"\"\"\n",
    "    Retrieves the most relevant chunk along with its neighboring chunks.\n",
    "\n",
    "    Args:\n",
    "    query (str): Search query.\n",
    "    text_chunks (List[str]): List of text chunks.\n",
    "    embeddings (List[dict]): List of chunk embeddings.\n",
    "    k (int): Number of relevant chunks to retrieve.\n",
    "    context_size (int): Number of neighboring chunks to include.\n",
    "\n",
    "    Returns:\n",
    "    List[str]: Relevant text chunks with contextual information.\n",
    "    \"\"\"\n",
    "    # Convert the query into an embedding vector\n",
    "    query_embedding = embed(query)\n",
    "    similarity_scores = [(i, cosine_similarity(query_embedding, embs.reshape(1, -1))[0][0]) \n",
    "                         for i, embs in enumerate(embeddings)] #[[i, numpy.ndarray(float)],[],[],...]\n",
    "    print(similarity_scores[:5])\n",
    "    # Sort chunks by similarity score in descending order (highest similarity first)\n",
    "    similarity_scores.sort(key=lambda x: x[1], reverse=True)\n",
    "    print(similarity_scores[:5])\n",
    "    # Get the index of the most relevant chunk\n",
    "    top_index = similarity_scores[0][0]\n",
    "    # Define the range for context inclusion\n",
    "    # Ensure we don't go below 0 or beyond the length of text_chunks\n",
    "    start = max(0, top_index - context_size)\n",
    "    end = min(len(text_chunks), top_index + context_size + 1)\n",
    "    print(start, end)\n",
    "    # Return the relevant chunk along with its neighboring context chunks\n",
    "    return [text_chunks[i] for i in range(start, end)]\n"
   ]
  },
  {
   "cell_type": "code",
   "execution_count": 76,
   "id": "0089ecfa",
   "metadata": {},
   "outputs": [
    {
     "name": "stdout",
     "output_type": "stream",
     "text": [
      "[(0, np.float32(0.8246176)), (1, np.float32(0.79339814)), (2, np.float32(0.81529665)), (3, np.float32(0.7903184)), (4, np.float32(0.78320646))]\n",
      "[(37, np.float32(0.85300636)), (8, np.float32(0.8340821)), (0, np.float32(0.8246176)), (29, np.float32(0.8236108)), (36, np.float32(0.8229671))]\n",
      "36 39\n",
      "Query: What is 'Explainable AI' and why is it considered important?\n",
      "Context 1:\n",
      "nt aligns with societal values. Education and awareness campaigns inform the public \n",
      "about AI, its impacts, and its potential. \n",
      "Chapter 19: AI and Ethics \n",
      "Principles of Ethical AI \n",
      "Ethical AI principles guide the development and deployment of AI systems to ensure they are fair, \n",
      "transparent, accountable, and beneficial to society. Key principles include respect for human \n",
      "rights, privacy, non-discrimination, and beneficence. \n",
      " \n",
      " \n",
      "Addressing Bias in AI \n",
      "AI systems can inherit and amplify biases present in the data they are trained on, leading to unfair \n",
      "or discriminatory outcomes. Addressing bias requires careful data collection, algorithm design, \n",
      "and ongoing monitoring and evaluation. \n",
      "Transparency and Explainability \n",
      "Transparency and explainability are essential for building trust in AI systems. Explainable AI (XAI) \n",
      "techniques aim to make AI decisions more understandable, enabling users to assess their \n",
      "fairness and accuracy. \n",
      "Privacy and Data Protection \n",
      "AI systems often rely on la\n",
      "=====================================\n",
      "Context 2:\n",
      "systems. Explainable AI (XAI) \n",
      "techniques aim to make AI decisions more understandable, enabling users to assess their \n",
      "fairness and accuracy. \n",
      "Privacy and Data Protection \n",
      "AI systems often rely on large amounts of data, raising concerns about privacy and data \n",
      "protection. Ensuring responsible data handling, implementing privacy-preserving techniques, \n",
      "and complying with data protection regulations are crucial. \n",
      "Accountability and Responsibility \n",
      "Establishing accountability and responsibility for AI systems is essential for addressing potential \n",
      "harms and ensuring ethical behavior. This includes defining roles and responsibilities for \n",
      "developers, deployers, and users of AI systems. \n",
      "Chapter 20: Building Trust in AI \n",
      "Transparency and Explainability \n",
      "Transparency and explainability are key to building trust in AI. Making AI systems understandable \n",
      "and providing insights into their decision-making processes helps users assess their reliability \n",
      "and fairness. \n",
      "Robustness and Reliability \n",
      "\n",
      "=====================================\n",
      "Context 3:\n",
      "to building trust in AI. Making AI systems understandable \n",
      "and providing insights into their decision-making processes helps users assess their reliability \n",
      "and fairness. \n",
      "Robustness and Reliability \n",
      "Ensuring that AI systems are robust and reliable is essential for building trust. This includes \n",
      "testing and validating AI models, monitoring their performance, and addressing potential \n",
      "vulnerabilities. \n",
      "User Control and Agency \n",
      "Empowering users with control over AI systems and providing them with agency in their \n",
      "interactions with AI enhances trust. This includes allowing users to customize AI settings, \n",
      "understand how their data is used, and opt out of AI-driven features. \n",
      "Ethical Design and Development \n",
      "Incorporating ethical considerations into the design and development of AI systems is crucial for \n",
      "building trust. This includes conducting ethical impact assessments, engaging stakeholders, and \n",
      "adhering to ethical guidelines and standards. \n",
      "Public Engagement and Education \n",
      "Engaging th\n",
      "=====================================\n"
     ]
    }
   ],
   "source": [
    "# Load the validation dataset from a JSON file\n",
    "with open('../data/val.json') as f:\n",
    "    data = json.load(f)\n",
    "\n",
    "# Extract the first question from the dataset to use as our query\n",
    "query = data[0]['question']\n",
    "\n",
    "# Retrieve the most relevant chunk and its neighboring chunks for context\n",
    "# Parameters:\n",
    "# - query: The question we're searching for\n",
    "# - text_chunks: Our text chunks extracted from the PDF\n",
    "# - response.data: The embeddings of our text chunks\n",
    "# - k=1: Return the top match\n",
    "# - context_size=1: Include 1 chunk before and after the top match for context\n",
    "top_chunks = context_enriched_search(query, text_chunks, response, k=1, context_size=1)\n",
    "\n",
    "# Print the query for reference\n",
    "print(\"Query:\", query)\n",
    "# Print each retrieved chunk with a heading and separator\n",
    "for i, chunk in enumerate(top_chunks):\n",
    "    print(f\"Context {i + 1}:\\n{chunk}\\n=====================================\")"
   ]
  },
  {
   "cell_type": "code",
   "execution_count": 78,
   "id": "a2b2f082",
   "metadata": {},
   "outputs": [],
   "source": [
    "# Define the system prompt for the AI assistant\n",
    "system_prompt = \"You are an AI assistant that strictly answers based on the given context. If the answer cannot be derived directly from the provided context, respond with: 'I do not have enough information to answer that.'\"\n",
    "\n",
    "def generate_response(system_prompt, user_message, model=os.getenv(\"GEMINI_GEN_MODEL\")):\n",
    "    \"\"\"\n",
    "    Generates a response from the AI model based on the system prompt and user message.\n",
    "\n",
    "    Args:\n",
    "    system_prompt (str): The system prompt to guide the AI's behavior.\n",
    "    user_message (str): The user's message or query.\n",
    "    model (str): The model to be used for generating the response. Default is \"meta-llama/Llama-2-7B-chat-hf\".\n",
    "\n",
    "    Returns:\n",
    "    dict: The response from the AI model.\n",
    "    \"\"\"\n",
    "    response = client.chat.completions.create(\n",
    "        model=model,\n",
    "        temperature=0,\n",
    "        messages=[\n",
    "            {\"role\": \"system\", \"content\": system_prompt},\n",
    "            {\"role\": \"user\", \"content\": user_message}\n",
    "        ]\n",
    "    )\n",
    "    return response\n",
    "\n",
    "# Create the user prompt based on the top chunks\n",
    "user_prompt = \"\\n\".join([f\"Context {i + 1}:\\n{chunk}\\n=====================================\\n\" for i, chunk in enumerate(top_chunks)])\n",
    "user_prompt = f\"{user_prompt}\\nQuestion: {query}\"\n",
    "\n",
    "# Generate AI response\n",
    "ai_response = generate_response(system_prompt, user_prompt)\n"
   ]
  },
  {
   "cell_type": "code",
   "execution_count": 79,
   "id": "f60e84a2",
   "metadata": {},
   "outputs": [
    {
     "data": {
      "text/plain": [
       "'Explainable AI (XAI) techniques aim to make AI decisions more understandable. It is considered important because transparency and explainability are essential for building trust in AI systems, enabling users to assess their fairness, accuracy, and reliability.'"
      ]
     },
     "execution_count": 79,
     "metadata": {},
     "output_type": "execute_result"
    }
   ],
   "source": [
    "ai_response_text = ai_response.choices[0].message.content\n",
    "ai_response_text"
   ]
  },
  {
   "cell_type": "code",
   "execution_count": 80,
   "id": "c371f110",
   "metadata": {},
   "outputs": [
    {
     "name": "stdout",
     "output_type": "stream",
     "text": [
      "Score: 1\n"
     ]
    }
   ],
   "source": [
    "# Define the system prompt for the evaluation system\n",
    "evaluate_system_prompt = \"You are an intelligent evaluation system tasked with assessing the AI assistant's responses. If the AI assistant's response is very close to the true response, assign a score of 1. If the response is incorrect or unsatisfactory in relation to the true response, assign a score of 0. If the response is partially aligned with the true response, assign a score of 0.5.\"\n",
    "\n",
    "# Create the evaluation prompt by combining the user query, AI response, true response, and evaluation system prompt\n",
    "evaluation_prompt = f\"User Query: {query}\\nAI Response:\\n{ai_response_text}\\nTrue Response: {data[0]['ideal_answer']}\\n{evaluate_system_prompt}\"\n",
    "\n",
    "# Generate the evaluation response using the evaluation system prompt and evaluation prompt\n",
    "evaluation_response = generate_response(evaluate_system_prompt, evaluation_prompt)\n",
    "\n",
    "# Print the evaluation response\n",
    "print(evaluation_response.choices[0].message.content)"
   ]
  },
  {
   "cell_type": "code",
   "execution_count": 81,
   "id": "bbfbad3f",
   "metadata": {},
   "outputs": [
    {
     "name": "stdout",
     "output_type": "stream",
     "text": [
      "[[0.9802352]]\n"
     ]
    }
   ],
   "source": [
    "ai_res = embed(ai_response_text)\n",
    "ideal_res = embed(data[0]['ideal_answer'])\n",
    "\n",
    "print(cosine_similarity(ai_res, ideal_res))"
   ]
  },
  {
   "cell_type": "code",
   "execution_count": null,
   "id": "24a64d4a",
   "metadata": {},
   "outputs": [],
   "source": []
  }
 ],
 "metadata": {
  "kernelspec": {
   "display_name": ".env",
   "language": "python",
   "name": "python3"
  },
  "language_info": {
   "codemirror_mode": {
    "name": "ipython",
    "version": 3
   },
   "file_extension": ".py",
   "mimetype": "text/x-python",
   "name": "python",
   "nbconvert_exporter": "python",
   "pygments_lexer": "ipython3",
   "version": "3.12.3"
  }
 },
 "nbformat": 4,
 "nbformat_minor": 5
}
