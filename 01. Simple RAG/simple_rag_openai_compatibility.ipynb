{
 "cells": [
  {
   "cell_type": "markdown",
   "id": "f4fcf685",
   "metadata": {},
   "source": [
    "In a simple RAG setup, we follow these steps:\n",
    "1. **Data Ingestion**: Load and preprocess text data\n",
    "2. **Chunking**: Break data into smaller chunks to improve retrieval performance\n",
    "3. **Embedding**: Convert the text chunks into numerical representations using an emdedding model\n",
    "4. **Semantic Search**: Retrieve relevant chunks based on user query\n",
    "5. **Response Generation**: Use a language model to generate a response based on retrieval text"
   ]
  },
  {
   "cell_type": "markdown",
   "id": "db3f8784",
   "metadata": {},
   "source": [
    "### 1. Set up environment"
   ]
  },
  {
   "cell_type": "code",
   "execution_count": 1,
   "id": "92793e8e",
   "metadata": {},
   "outputs": [],
   "source": [
    "import fitz\n",
    "import os\n",
    "from dotenv import load_dotenv\n",
    "import numpy as np\n",
    "import json\n",
    "from sklearn.metrics.pairwise import cosine_similarity\n",
    "from openai import OpenAI"
   ]
  },
  {
   "cell_type": "code",
   "execution_count": 2,
   "id": "aeff84f2",
   "metadata": {},
   "outputs": [
    {
     "data": {
      "text/plain": [
       "True"
      ]
     },
     "execution_count": 2,
     "metadata": {},
     "output_type": "execute_result"
    }
   ],
   "source": [
    "load_dotenv(\"../conf.env\")"
   ]
  },
  {
   "cell_type": "markdown",
   "id": "70686f0d",
   "metadata": {},
   "source": [
    "### 2. Ingest data(PDF for this example)"
   ]
  },
  {
   "cell_type": "code",
   "execution_count": 3,
   "id": "e0c485ba",
   "metadata": {},
   "outputs": [],
   "source": [
    "def extract_text_from_pdf(pdf_path):\n",
    "    \"\"\"\n",
    "    Extracts text from a PDF file and prints the first `num_chars` characters.\n",
    "\n",
    "    Args:\n",
    "    pdf_path (str): Path to the PDF file.\n",
    "\n",
    "    Returns:\n",
    "    str: Extracted text from the PDF.\n",
    "    \"\"\"\n",
    "    # Open the PDF file\n",
    "    mypdf = fitz.open(pdf_path)\n",
    "    all_text = \"\"  # Initialize an empty string to store the extracted text\n",
    "\n",
    "    # Iterate through each page in the PDF\n",
    "    for page in mypdf:\n",
    "        all_text += page.get_text(\"text\") + \" \"\n",
    "\n",
    "    return all_text.strip()  # Return the extracted text"
   ]
  },
  {
   "cell_type": "markdown",
   "id": "d73f0393",
   "metadata": {},
   "source": [
    "### 3. Chunk the extracted text"
   ]
  },
  {
   "cell_type": "code",
   "execution_count": 4,
   "id": "71906188",
   "metadata": {},
   "outputs": [],
   "source": [
    "def chunk_text(text, n, overlap):\n",
    "    \"\"\"\n",
    "    Chunks the given text into segments of n characters with overlap.\n",
    "\n",
    "    Args:\n",
    "    text (str): The text to be chunked.\n",
    "    n (int): The number of characters in each chunk.\n",
    "    overlap (int): The number of overlapping characters between chunks.\n",
    "\n",
    "    Returns:\n",
    "    List[str]: A list of text chunks.\n",
    "    \"\"\"\n",
    "    chunks = []  # Initialize an empty list to store the chunks\n",
    "    \n",
    "    # Loop through the text with a step size of (n - overlap)\n",
    "    for i in range(0, len(text), n - overlap):\n",
    "        # Append a chunk of text from index i to i + n to the chunks list\n",
    "        chunks.append(text[i:i + n])\n",
    "\n",
    "    return chunks  # Return the list of text chunks # list[text]"
   ]
  },
  {
   "cell_type": "markdown",
   "id": "d35ea5d9",
   "metadata": {},
   "source": [
    "#### Set up OpenAI Client\n",
    "Access [this](https://aistudio.google.com/apikey) to get your free API key from Google Gemini "
   ]
  },
  {
   "cell_type": "code",
   "execution_count": 5,
   "id": "4b66984e",
   "metadata": {},
   "outputs": [],
   "source": [
    "\n",
    "client = OpenAI(\n",
    "    api_key=os.getenv(\"GEMINI_API_KEY\"),\n",
    "    base_url=\"https://generativelanguage.googleapis.com/v1beta/openai/\"\n",
    ")"
   ]
  },
  {
   "cell_type": "markdown",
   "id": "f49dbbdb",
   "metadata": {},
   "source": [
    "now load pdf, extract text and split it into chunks"
   ]
  },
  {
   "cell_type": "code",
   "execution_count": 6,
   "id": "71d19b29",
   "metadata": {},
   "outputs": [
    {
     "name": "stdout",
     "output_type": "stream",
     "text": [
      "Number of text chunks: 42\n",
      "\n",
      "First text chunk:\n",
      "Understanding Artificial Intelligence \n",
      "Chapter 1: Introduction to Artificial Intelligence \n",
      "Artificial intelligence (AI) refers to the ability of a digital computer or computer-controlled robot \n",
      "to perform tasks commonly associated with intelligent beings. The term is frequently applied to \n",
      "the project of developing systems endowed with the intellectual processes characteristic of \n",
      "humans, such as the ability to reason, discover meaning, generalize, or learn from past \n",
      "experience. Over the past few decades, advancements in computing power and data availability \n",
      "have significantly accelerated the development and deployment of AI. \n",
      "Historical Context \n",
      "The idea of artificial intelligence has existed for centuries, often depicted in myths and fiction. \n",
      "However, the formal field of AI research began in the mid-20th century. The Dartmouth Workshop \n",
      "in 1956 is widely considered the birthplace of AI. Early AI research focused on problem-solving \n",
      "and symbolic methods. The 1980s saw a rise in exp\n"
     ]
    }
   ],
   "source": [
    "# Define the path to the PDF file\n",
    "pdf_path = \"../data/AI_Information.pdf\"\n",
    "\n",
    "# Extract text from the PDF file\n",
    "extracted_text = extract_text_from_pdf(pdf_path)\n",
    "\n",
    "# Chunk the extracted text into segments of 1000 characters with an overlap of 200 characters\n",
    "text_chunks = chunk_text(extracted_text, 1000, 200)\n",
    "\n",
    "# Print the number of text chunks created\n",
    "print(\"Number of text chunks:\", len(text_chunks))\n",
    "\n",
    "# Print the first text chunk\n",
    "print(\"\\nFirst text chunk:\")\n",
    "print(text_chunks[0])"
   ]
  },
  {
   "cell_type": "markdown",
   "id": "275e7abb",
   "metadata": {},
   "source": [
    "### 4. Emdedding\n",
    "Convert text into numerical vectors, which allow for efficient similarity search"
   ]
  },
  {
   "cell_type": "code",
   "execution_count": 7,
   "id": "8b340ea4",
   "metadata": {},
   "outputs": [],
   "source": [
    "def create_embeddings(text, model=\"gemini-embedding-001\"):\n",
    "    \"\"\"\n",
    "    Creates embeddings for the given text using the specified OpenAI model.\n",
    "\n",
    "    Args:\n",
    "    text (str): The input text for which embeddings are to be created.\n",
    "    model (str): The model to be used for creating embeddings. Default is \"gemini-embedding-001\".\n",
    "\n",
    "    Returns:\n",
    "    dict: The response from the OpenAI API containing the embeddings.\n",
    "    \"\"\"\n",
    "    # Create embeddings for the input text using the specified model\n",
    "    response = client.embeddings.create(\n",
    "        model=model,\n",
    "        input=text\n",
    "    )\n",
    "\n",
    "    return response  # Return the response containing the embeddings # CreateEmbeddingResponse\n",
    "\n",
    "# Create embeddings for the text chunks\n",
    "response = create_embeddings(text_chunks) # :CreateEmbeddingResponse"
   ]
  },
  {
   "cell_type": "code",
   "execution_count": 8,
   "id": "33c78753",
   "metadata": {},
   "outputs": [
    {
     "data": {
      "text/plain": [
       "array([ 0.0049712 ,  0.00908941,  0.02203033, ...,  0.00198734,\n",
       "       -0.00881044, -0.01199376], shape=(3072,))"
      ]
     },
     "execution_count": 8,
     "metadata": {},
     "output_type": "execute_result"
    }
   ],
   "source": [
    "response.data # :list[Embedding]\n",
    "response.data[1].embedding # :(x,1)\n",
    "np.array(response.data[0].embedding) # :NDArray(x,)"
   ]
  },
  {
   "cell_type": "code",
   "execution_count": 9,
   "id": "98809a8a",
   "metadata": {},
   "outputs": [
    {
     "data": {
      "text/plain": [
       "[array([ 0.0049712 ,  0.00908941,  0.02203033, ...,  0.00198734,\n",
       "        -0.00881044, -0.01199376], shape=(3072,)),\n",
       " array([-0.00183863, -0.01369122,  0.02448579, ...,  0.00070203,\n",
       "        -0.00132361, -0.00723084], shape=(3072,)),\n",
       " array([-0.01276625, -0.0080712 , -0.01626536, ..., -0.0035511 ,\n",
       "         0.01299587,  0.00095135], shape=(3072,)),\n",
       " array([-0.01317397, -0.00019218, -0.00754517, ..., -0.00856328,\n",
       "        -0.00673063, -0.01202932], shape=(3072,)),\n",
       " array([ 0.01870531,  0.01208002,  0.00602027, ..., -0.00929642,\n",
       "         0.0001431 , -0.00295126], shape=(3072,)),\n",
       " array([ 0.01819538, -0.00470313,  0.01499009, ...,  0.01054152,\n",
       "        -0.00521335, -0.01171913], shape=(3072,)),\n",
       " array([-0.01056309, -0.0066891 ,  0.01673094, ..., -0.01151042,\n",
       "         0.00066451,  0.0060216 ], shape=(3072,)),\n",
       " array([-0.02305629,  0.00502344,  0.00977692, ..., -0.02509176,\n",
       "         0.00374365,  0.00935353], shape=(3072,)),\n",
       " array([-0.0233781 , -0.01911625, -0.00713572, ..., -0.00426102,\n",
       "         0.00126743,  0.00601224], shape=(3072,)),\n",
       " array([-0.0340935 , -0.00302639,  0.01699629, ..., -0.01615309,\n",
       "         0.01259842,  0.00659136], shape=(3072,)),\n",
       " array([-0.00532235, -0.01284354,  0.00739646, ..., -0.00870886,\n",
       "         0.00653875,  0.00476329], shape=(3072,)),\n",
       " array([ 0.00779421,  0.00798904,  0.01495439, ..., -0.02328369,\n",
       "         0.02346794,  0.01325502], shape=(3072,)),\n",
       " array([-0.00989366, -0.00673294,  0.02075376, ..., -0.02491974,\n",
       "        -0.00483844,  0.00642851], shape=(3072,)),\n",
       " array([-0.00346345, -0.00457784,  0.00881031, ..., -0.00946848,\n",
       "        -0.00998259, -0.00259395], shape=(3072,)),\n",
       " array([-0.02323712,  0.00410651,  0.00045356, ..., -0.00454147,\n",
       "         0.00499709,  0.00051171], shape=(3072,)),\n",
       " array([-0.01814152,  0.01247007,  0.00540377, ...,  0.01061288,\n",
       "         0.01295856, -0.00018211], shape=(3072,)),\n",
       " array([-0.00515892, -0.00406709, -0.00422383, ..., -0.00694642,\n",
       "         0.001778  , -0.00194361], shape=(3072,)),\n",
       " array([-0.00896025,  0.00162977,  0.00882292, ...,  0.0016908 ,\n",
       "         0.00129458,  0.00305328], shape=(3072,)),\n",
       " array([ 7.39381765e-04, -9.32074152e-03, -3.42691364e-03, ...,\n",
       "        -8.91964228e-05, -7.25644501e-03,  4.85017896e-03], shape=(3072,)),\n",
       " array([ 0.00064171,  0.0020228 , -0.00055372, ...,  0.0101263 ,\n",
       "        -0.01302444,  0.00215484], shape=(3072,)),\n",
       " array([ 0.00743887,  0.00596994, -0.01298696, ...,  0.00078391,\n",
       "         0.00145672,  0.0040465 ], shape=(3072,)),\n",
       " array([-0.00094087,  0.0094868 ,  0.00716827, ..., -0.00136904,\n",
       "         0.00332201, -0.00352507], shape=(3072,)),\n",
       " array([-0.00696646,  0.0107226 , -0.00621916, ...,  0.00565884,\n",
       "        -0.00346013, -0.00959231], shape=(3072,)),\n",
       " array([-0.01198492, -0.00360917, -0.01023873, ..., -0.01232666,\n",
       "        -0.00395345, -0.01447358], shape=(3072,)),\n",
       " array([-0.00660225,  0.00414998,  0.0084901 , ..., -0.00245179,\n",
       "        -0.0054109 , -0.0069472 ], shape=(3072,)),\n",
       " array([ 0.01560077, -0.01140293, -0.00360655, ...,  0.00972436,\n",
       "        -0.02133949, -0.00709451], shape=(3072,)),\n",
       " array([-1.77700000e-04, -1.45936832e-02,  6.88638538e-05, ...,\n",
       "        -1.74845662e-02, -6.99366163e-03, -1.09146675e-02], shape=(3072,)),\n",
       " array([-0.01606914, -0.02038678,  0.01746504, ..., -0.00643267,\n",
       "        -0.003565  , -0.00529547], shape=(3072,)),\n",
       " array([-0.0224251 , -0.0110253 ,  0.03601151, ..., -0.01804616,\n",
       "        -0.00141882,  0.00819898], shape=(3072,)),\n",
       " array([ 0.00474961,  0.01626702,  0.00137778, ...,  0.00429019,\n",
       "         0.00036793, -0.00775723], shape=(3072,)),\n",
       " array([-0.00786594,  0.00079167, -0.00512563, ...,  0.00750971,\n",
       "         0.00784479, -0.00725289], shape=(3072,)),\n",
       " array([-0.01404417,  0.01455271,  0.00960626, ..., -0.01042823,\n",
       "        -0.00112359,  0.00900435], shape=(3072,)),\n",
       " array([-0.00505129, -0.01206467, -0.00287439, ...,  0.00263953,\n",
       "        -0.0120459 , -0.01379504], shape=(3072,)),\n",
       " array([-0.00884823, -0.01365672,  0.02749718, ..., -0.00504424,\n",
       "        -0.01758673, -0.01130595], shape=(3072,)),\n",
       " array([-0.01449066, -0.01373703,  0.03099428, ..., -0.00046338,\n",
       "        -0.01767055, -0.0027898 ], shape=(3072,)),\n",
       " array([-0.0286973 , -0.01506077,  0.01782381, ..., -0.03006539,\n",
       "         0.00789581, -0.00130501], shape=(3072,)),\n",
       " array([-0.01982415, -0.00858786,  0.01363545, ..., -0.00673054,\n",
       "         0.01256922,  0.00060748], shape=(3072,)),\n",
       " array([-0.01984828, -0.03290935,  0.0237935 , ..., -0.01553965,\n",
       "         0.0122752 ,  0.00381923], shape=(3072,)),\n",
       " array([-0.02361176, -0.00472698,  0.00684292, ..., -0.03268741,\n",
       "         0.0270991 ,  0.0045014 ], shape=(3072,)),\n",
       " array([-0.03076857, -0.01641378,  0.00777504, ..., -0.02571228,\n",
       "         0.00291297, -0.00253782], shape=(3072,)),\n",
       " array([-0.01018965,  0.00159214,  0.0309721 , ..., -0.01540992,\n",
       "         0.00693427,  0.01627068], shape=(3072,)),\n",
       " array([-0.0072723 ,  0.01334919,  0.02988504, ...,  0.00113272,\n",
       "         0.00084316,  0.00066095], shape=(3072,))]"
      ]
     },
     "execution_count": 9,
     "metadata": {},
     "output_type": "execute_result"
    }
   ],
   "source": [
    "[np.array(response.data[i].embedding) for i in range(len(response.data))] # list[NDA(x,)]"
   ]
  },
  {
   "cell_type": "code",
   "execution_count": 10,
   "id": "629771b9",
   "metadata": {},
   "outputs": [
    {
     "name": "stdout",
     "output_type": "stream",
     "text": [
      "Similarity between '0' and '1': 0.8222\n",
      "Similarity between '0' and '2': 0.7588\n",
      "Similarity between '0' and '3': 0.6605\n",
      "Similarity between '0' and '4': 0.6777\n",
      "Similarity between '1' and '2': 0.8194\n",
      "Similarity between '1' and '3': 0.6857\n",
      "Similarity between '1' and '4': 0.7175\n",
      "Similarity between '2' and '3': 0.7799\n",
      "Similarity between '2' and '4': 0.7008\n",
      "Similarity between '3' and '4': 0.7937\n"
     ]
    }
   ],
   "source": [
    "embeddings_matrix = [np.array(response.data[i].embedding) for i in range(len(response.data))] # :list(np.array)\n",
    "similarity_matrix = cosine_similarity(embeddings_matrix)\n",
    "\n",
    "for i, text1 in enumerate(text_chunks):\n",
    "    for j in range(i + 1, 5):\n",
    "        text2 = text_chunks[j]\n",
    "        similarity = similarity_matrix[i, j]\n",
    "        print(f\"Similarity between '{i}' and '{j}': {similarity:.4f}\")"
   ]
  },
  {
   "cell_type": "markdown",
   "id": "ab540f83",
   "metadata": {},
   "source": [
    "implement semantic search to find contextual similarity"
   ]
  },
  {
   "cell_type": "code",
   "execution_count": 11,
   "id": "0a4f5002",
   "metadata": {},
   "outputs": [],
   "source": [
    "def semantic_search(query, text_chunks, embeddings, k=5):\n",
    "    \"\"\"\n",
    "    Performs semantic search on the text chunks using the given query and embeddings.\n",
    "\n",
    "    Args:\n",
    "    query (str): The query for the semantic search.\n",
    "    text_chunks (List[str]): A list of text chunks to search through.\n",
    "    embeddings (List[dict]): A list of embeddings for the text chunks.\n",
    "    k (int): The number of top relevant text chunks to return. Default is 5.\n",
    "\n",
    "    Returns:\n",
    "    List[str]: A list of the top k most relevant text chunks based on the query.\n",
    "    \"\"\"\n",
    "    # Create an embedding for the query\n",
    "    query_embedding = create_embeddings(query).data[0].embedding # (x,1)\n",
    "    similarity_scores = []  # Initialize a list to store similarity scores\n",
    "\n",
    "    # Calculate similarity scores between the query embedding and each text chunk embedding\n",
    "    for i, chunk_embedding in enumerate(embeddings):\n",
    "        similarity_score = cosine_similarity(np.array(query_embedding).reshape(1, -1), np.array(chunk_embedding.embedding).reshape(1, -1))\n",
    "                        #cos_sim(NDA(1,x), NDA(x,).reshape(1, -1) => NDA(1,x))\n",
    "        similarity_scores.append((i, similarity_score))  # Append the index and similarity score\n",
    "\n",
    "    # Sort the similarity scores in descending order\n",
    "    similarity_scores.sort(key=lambda x: x[1], reverse=True)\n",
    "    # Get the indices of the top k most similar text chunks\n",
    "    top_indices = [index for index, _ in similarity_scores[:k]]\n",
    "    # Return the top k most relevant text chunks\n",
    "    return [text_chunks[index] for index in top_indices]"
   ]
  },
  {
   "cell_type": "markdown",
   "id": "130a6644",
   "metadata": {},
   "source": [
    "running a query on extracted chunks"
   ]
  },
  {
   "cell_type": "code",
   "execution_count": 12,
   "id": "4cb926b3",
   "metadata": {},
   "outputs": [
    {
     "name": "stdout",
     "output_type": "stream",
     "text": [
      "Query: What is 'Explainable AI' and why is it considered important?\n",
      "Context 1:\n",
      "lainability \n",
      "Many AI systems, particularly deep learning models, are \"black boxes,\" making it difficult to \n",
      "understand how they arrive at their decisions. Enhancing transparency and explainability is \n",
      "crucial for building trust and accountability. \n",
      " \n",
      "  \n",
      "Privacy and Security \n",
      "AI systems often rely on large amounts of data, raising concerns about privacy and data security. \n",
      "Protecting sensitive information and ensuring responsible data handling are essential. \n",
      "Job Displacement \n",
      "The automation capabilities of AI have raised concerns about job displacement, particularly in \n",
      "industries with repetitive or routine tasks. Addressing the potential economic and social impacts \n",
      "of AI-driven automation is a key challenge. \n",
      "Autonomy and Control \n",
      "As AI systems become more autonomous, questions arise about control, accountability, and the \n",
      "potential for unintended consequences. Establishing clear guidelines and ethical frameworks for \n",
      "AI development and deployment is crucial. \n",
      "Weaponization of AI \n",
      "Th\n",
      "=====================================\n",
      "Context 2:\n",
      "lity are key to building trust in AI. Making AI systems understandable \n",
      "and providing insights into their decision-making processes helps users assess their reliability \n",
      "and fairness. \n",
      "Robustness and Reliability \n",
      "Ensuring that AI systems are robust and reliable is essential for building trust. This includes \n",
      "testing and validating AI models, monitoring their performance, and addressing potential \n",
      "vulnerabilities. \n",
      "User Control and Agency \n",
      "Empowering users with control over AI systems and providing them with agency in their \n",
      "interactions with AI enhances trust. This includes allowing users to customize AI settings, \n",
      "understand how their data is used, and opt out of AI-driven features. \n",
      "Ethical Design and Development \n",
      "Incorporating ethical considerations into the design and development of AI systems is crucial for \n",
      "building trust. This includes conducting ethical impact assessments, engaging stakeholders, and \n",
      "adhering to ethical guidelines and standards. \n",
      "Public Engagement and Education\n",
      "=====================================\n"
     ]
    }
   ],
   "source": [
    "# Load the validation data from a JSON file\n",
    "with open('../data/val.json') as f:\n",
    "    data = json.load(f)\n",
    "\n",
    "# Extract the first query from the validation data\n",
    "query = data[0]['question']\n",
    "\n",
    "# Perform semantic search to find the top 2 most relevant text chunks for the query\n",
    "top_chunks = semantic_search(query, text_chunks, response.data, k=2)\n",
    "\n",
    "# Print the query\n",
    "print(\"Query:\", query)\n",
    "\n",
    "# Print the top 2 most relevant text chunks\n",
    "for i, chunk in enumerate(top_chunks):\n",
    "    print(f\"Context {i + 1}:\\n{chunk}\\n=====================================\")\n"
   ]
  },
  {
   "cell_type": "code",
   "execution_count": 13,
   "id": "9cf06e20",
   "metadata": {},
   "outputs": [
    {
     "data": {
      "text/plain": [
       "array([-0.02039474,  0.00263954,  0.009839  , ..., -0.02887365,\n",
       "        0.00846821,  0.01495596], shape=(3072,))"
      ]
     },
     "execution_count": 13,
     "metadata": {},
     "output_type": "execute_result"
    }
   ],
   "source": [
    "np.array(create_embeddings(query).data[0].embedding)"
   ]
  },
  {
   "cell_type": "markdown",
   "id": "2aed0883",
   "metadata": {},
   "source": [
    "### 5. Generate response"
   ]
  },
  {
   "cell_type": "code",
   "execution_count": 14,
   "id": "bddab884",
   "metadata": {},
   "outputs": [],
   "source": [
    "# Define the system prompt for the AI assistant\n",
    "system_prompt = \"You are an AI assistant that strictly answers based on the given context. If the answer cannot be derived directly from the provided context, respond with: 'I do not have enough information to answer that.'\"\n",
    "\n",
    "def generate_response(system_prompt, user_message, model=\"gemini-2.5-flash\"):\n",
    "    \"\"\"\n",
    "    Generates a response from the AI model based on the system prompt and user message.\n",
    "\n",
    "    Args:\n",
    "    system_prompt (str): The system prompt to guide the AI's behavior.\n",
    "    user_message (str): The user's message or query.\n",
    "    model (str): The model to be used for generating the response. Default is \"meta-llama/Llama-2-7B-chat-hf\".\n",
    "\n",
    "    Returns:\n",
    "    dict: The response from the AI model.\n",
    "    \"\"\"\n",
    "    response = client.chat.completions.create(\n",
    "        model=model,\n",
    "        temperature=0,\n",
    "        messages=[\n",
    "            {\"role\": \"system\", \"content\": system_prompt},\n",
    "            {\"role\": \"user\", \"content\": user_message}\n",
    "        ]\n",
    "    )\n",
    "    return response\n",
    "\n",
    "# Create the user prompt based on the top chunks\n",
    "user_prompt = \"\\n\".join([f\"Context {i + 1}:\\n{chunk}\\n=====================================\\n\" for i, chunk in enumerate(top_chunks)])\n",
    "user_prompt = f\"{user_prompt}\\nQuestion: {query}\"\n",
    "\n",
    "# Generate AI response\n",
    "ai_response = generate_response(system_prompt, user_prompt)"
   ]
  },
  {
   "cell_type": "code",
   "execution_count": 15,
   "id": "5f89c065",
   "metadata": {},
   "outputs": [],
   "source": [
    "ai_response_text = ai_response.choices[0].message.content"
   ]
  },
  {
   "cell_type": "code",
   "execution_count": 16,
   "id": "f755b390",
   "metadata": {},
   "outputs": [
    {
     "name": "stdout",
     "output_type": "stream",
     "text": [
      "ChatCompletion(id='ZqeAaPeWBIDUz7IP9sr16Aw', choices=[Choice(finish_reason='stop', index=0, logprobs=None, message=ChatCompletionMessage(content='Explainable AI (or explainability) refers to making AI systems understandable by providing insights into their decision-making processes, especially for \"black box\" models like deep learning. It is considered important because enhancing transparency and explainability is crucial for building trust and accountability, and it helps users assess the reliability and fairness of AI systems.', refusal=None, role='assistant', annotations=None, audio=None, function_call=None, tool_calls=None))], created=1753261926, model='gemini-2.5-flash', object='chat.completion', service_tier=None, system_fingerprint=None, usage=CompletionUsage(completion_tokens=66, prompt_tokens=471, total_tokens=1019, completion_tokens_details=None, prompt_tokens_details=None))\n"
     ]
    }
   ],
   "source": [
    "print(ai_response)"
   ]
  },
  {
   "cell_type": "markdown",
   "id": "4acd60a8",
   "metadata": {},
   "source": [
    "### Evaluate"
   ]
  },
  {
   "cell_type": "code",
   "execution_count": 17,
   "id": "5cf5b4f9",
   "metadata": {},
   "outputs": [
    {
     "name": "stdout",
     "output_type": "stream",
     "text": [
      "Score: 1\n"
     ]
    }
   ],
   "source": [
    "# Define the system prompt for the evaluation system\n",
    "evaluate_system_prompt = \"You are an intelligent evaluation system tasked with assessing the AI assistant's responses. If the AI assistant's response is very close to the true response, assign a score of 1. If the response is incorrect or unsatisfactory in relation to the true response, assign a score of 0. If the response is partially aligned with the true response, assign a score of 0.5.\"\n",
    "\n",
    "# Create the evaluation prompt by combining the user query, AI response, true response, and evaluation system prompt\n",
    "evaluation_prompt = f\"User Query: {query}\\nAI Response:\\n{ai_response.choices[0].message.content}\\nTrue Response: {data[0]['ideal_answer']}\\n{evaluate_system_prompt}\"\n",
    "\n",
    "# Generate the evaluation response using the evaluation system prompt and evaluation prompt\n",
    "evaluation_response = generate_response(evaluate_system_prompt, evaluation_prompt)\n",
    "\n",
    "# Print the evaluation response\n",
    "print(evaluation_response.choices[0].message.content)"
   ]
  },
  {
   "cell_type": "code",
   "execution_count": 18,
   "id": "a6b72d18",
   "metadata": {},
   "outputs": [
    {
     "data": {
      "text/plain": [
       "array([ 0.00397952,  0.01158977,  0.0064257 , ..., -0.02235902,\n",
       "        0.02382587, -0.00643594], shape=(3072,))"
      ]
     },
     "execution_count": 18,
     "metadata": {},
     "output_type": "execute_result"
    }
   ],
   "source": [
    "np.array(create_embeddings(ai_response.choices[0].message.content).data[0].embedding)"
   ]
  },
  {
   "cell_type": "code",
   "execution_count": 19,
   "id": "63f01b2e",
   "metadata": {},
   "outputs": [
    {
     "data": {
      "text/plain": [
       "array([-0.00634933,  0.01132035,  0.00591608, ..., -0.02739728,\n",
       "        0.02021963, -0.00203079], shape=(3072,))"
      ]
     },
     "execution_count": 19,
     "metadata": {},
     "output_type": "execute_result"
    }
   ],
   "source": [
    "np.array(create_embeddings(data[0]['ideal_answer']).data[0].embedding)"
   ]
  },
  {
   "cell_type": "code",
   "execution_count": 20,
   "id": "7a1d8ded",
   "metadata": {},
   "outputs": [
    {
     "name": "stdout",
     "output_type": "stream",
     "text": [
      "(1, 3072) (1, 3072)\n"
     ]
    },
    {
     "data": {
      "text/plain": [
       "array([[0.93485396]])"
      ]
     },
     "execution_count": 20,
     "metadata": {},
     "output_type": "execute_result"
    }
   ],
   "source": [
    "ai_gen = np.array(create_embeddings(ai_response_text).data[0].embedding).reshape(1, -1) # (x,).reshape(1, -1) => (1,x)\n",
    "ideal_re = np.array(create_embeddings(data[0]['ideal_answer']).data[0].embedding).reshape(1, -1) # (x,).reshape(1, -1) => (1,x)\n",
    "print(ai_gen.shape, ideal_re.shape)\n",
    "\n",
    "cosine_similarity(ai_gen, ideal_re)"
   ]
  }
 ],
 "metadata": {
  "kernelspec": {
   "display_name": ".env",
   "language": "python",
   "name": "python3"
  },
  "language_info": {
   "codemirror_mode": {
    "name": "ipython",
    "version": 3
   },
   "file_extension": ".py",
   "mimetype": "text/x-python",
   "name": "python",
   "nbconvert_exporter": "python",
   "pygments_lexer": "ipython3",
   "version": "3.12.3"
  }
 },
 "nbformat": 4,
 "nbformat_minor": 5
}
